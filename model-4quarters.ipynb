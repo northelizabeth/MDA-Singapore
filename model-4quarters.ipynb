{
 "cells": [
  {
   "cell_type": "code",
   "execution_count": 1,
   "id": "2ec1fbd8",
   "metadata": {},
   "outputs": [],
   "source": [
    "from datetime import datetime\n",
    "import numpy as np\n",
    "import pandas as pd\n",
    "import matplotlib.pyplot as plt\n",
    "import openpyxl\n",
    "import xlsxwriter\n",
    "from pathlib import Path\n",
    "from pandas import DataFrame\n",
    "import re\n",
    "import os\n",
    "from datetime import timedelta\n",
    "from sklearn.impute import SimpleImputer"
   ]
  },
  {
   "cell_type": "code",
   "execution_count": 5,
   "id": "bd959270",
   "metadata": {},
   "outputs": [
    {
     "data": {
      "text/html": [
       "<div>\n",
       "<style scoped>\n",
       "    .dataframe tbody tr th:only-of-type {\n",
       "        vertical-align: middle;\n",
       "    }\n",
       "\n",
       "    .dataframe tbody tr th {\n",
       "        vertical-align: top;\n",
       "    }\n",
       "\n",
       "    .dataframe thead th {\n",
       "        text-align: right;\n",
       "    }\n",
       "</style>\n",
       "<table border=\"1\" class=\"dataframe\">\n",
       "  <thead>\n",
       "    <tr style=\"text-align: right;\">\n",
       "      <th></th>\n",
       "      <th>Date</th>\n",
       "      <th>Country</th>\n",
       "      <th>NumDay</th>\n",
       "      <th>LP</th>\n",
       "      <th>GDP</th>\n",
       "    </tr>\n",
       "  </thead>\n",
       "  <tbody>\n",
       "    <tr>\n",
       "      <th>0</th>\n",
       "      <td>1996-03-30</td>\n",
       "      <td>DE</td>\n",
       "      <td>0</td>\n",
       "      <td>86.8</td>\n",
       "      <td>76.622</td>\n",
       "    </tr>\n",
       "    <tr>\n",
       "      <th>1</th>\n",
       "      <td>1996-06-30</td>\n",
       "      <td>DE</td>\n",
       "      <td>13</td>\n",
       "      <td>87.9</td>\n",
       "      <td>77.663</td>\n",
       "    </tr>\n",
       "    <tr>\n",
       "      <th>2</th>\n",
       "      <td>1996-09-30</td>\n",
       "      <td>DE</td>\n",
       "      <td>8</td>\n",
       "      <td>88.3</td>\n",
       "      <td>77.934</td>\n",
       "    </tr>\n",
       "    <tr>\n",
       "      <th>3</th>\n",
       "      <td>1996-12-30</td>\n",
       "      <td>DE</td>\n",
       "      <td>0</td>\n",
       "      <td>89.1</td>\n",
       "      <td>78.514</td>\n",
       "    </tr>\n",
       "    <tr>\n",
       "      <th>4</th>\n",
       "      <td>1997-03-30</td>\n",
       "      <td>DE</td>\n",
       "      <td>0</td>\n",
       "      <td>88.7</td>\n",
       "      <td>78.096</td>\n",
       "    </tr>\n",
       "    <tr>\n",
       "      <th>...</th>\n",
       "      <td>...</td>\n",
       "      <td>...</td>\n",
       "      <td>...</td>\n",
       "      <td>...</td>\n",
       "      <td>...</td>\n",
       "    </tr>\n",
       "    <tr>\n",
       "      <th>283</th>\n",
       "      <td>2018-12-30</td>\n",
       "      <td>NL</td>\n",
       "      <td>0</td>\n",
       "      <td>100.7</td>\n",
       "      <td>108.272</td>\n",
       "    </tr>\n",
       "    <tr>\n",
       "      <th>284</th>\n",
       "      <td>2019-03-30</td>\n",
       "      <td>NL</td>\n",
       "      <td>0</td>\n",
       "      <td>100.6</td>\n",
       "      <td>108.811</td>\n",
       "    </tr>\n",
       "    <tr>\n",
       "      <th>285</th>\n",
       "      <td>2019-06-30</td>\n",
       "      <td>NL</td>\n",
       "      <td>14</td>\n",
       "      <td>100.7</td>\n",
       "      <td>109.203</td>\n",
       "    </tr>\n",
       "    <tr>\n",
       "      <th>286</th>\n",
       "      <td>2019-09-30</td>\n",
       "      <td>NL</td>\n",
       "      <td>37</td>\n",
       "      <td>100.8</td>\n",
       "      <td>109.569</td>\n",
       "    </tr>\n",
       "    <tr>\n",
       "      <th>287</th>\n",
       "      <td>2019-12-30</td>\n",
       "      <td>NL</td>\n",
       "      <td>0</td>\n",
       "      <td>100.8</td>\n",
       "      <td>110.072</td>\n",
       "    </tr>\n",
       "  </tbody>\n",
       "</table>\n",
       "<p>288 rows × 5 columns</p>\n",
       "</div>"
      ],
      "text/plain": [
       "          Date Country  NumDay     LP      GDP\n",
       "0   1996-03-30      DE       0   86.8   76.622\n",
       "1   1996-06-30      DE      13   87.9   77.663\n",
       "2   1996-09-30      DE       8   88.3   77.934\n",
       "3   1996-12-30      DE       0   89.1   78.514\n",
       "4   1997-03-30      DE       0   88.7   78.096\n",
       "..         ...     ...     ...    ...      ...\n",
       "283 2018-12-30      NL       0  100.7  108.272\n",
       "284 2019-03-30      NL       0  100.6  108.811\n",
       "285 2019-06-30      NL      14  100.7  109.203\n",
       "286 2019-09-30      NL      37  100.8  109.569\n",
       "287 2019-12-30      NL       0  100.8  110.072\n",
       "\n",
       "[288 rows x 5 columns]"
      ]
     },
     "execution_count": 5,
     "metadata": {},
     "output_type": "execute_result"
    }
   ],
   "source": [
    "df = pd.read_excel(\"/Users/zhengxin/Downloads/NumDay_quarter.xlsx\",engine='openpyxl')\n",
    "df"
   ]
  },
  {
   "cell_type": "code",
   "execution_count": 6,
   "id": "1b71f9f7",
   "metadata": {},
   "outputs": [
    {
     "name": "stdout",
     "output_type": "stream",
     "text": [
      "<class 'pandas.core.frame.DataFrame'>\n",
      "RangeIndex: 288 entries, 0 to 287\n",
      "Data columns (total 7 columns):\n",
      " #   Column   Non-Null Count  Dtype  \n",
      "---  ------   --------------  -----  \n",
      " 0   Date     288 non-null    object \n",
      " 1   Country  288 non-null    object \n",
      " 2   NumDay   288 non-null    int64  \n",
      " 3   LP       288 non-null    float64\n",
      " 4   GDP      288 non-null    float64\n",
      " 5   Year     288 non-null    int64  \n",
      " 6   Quarter  288 non-null    int64  \n",
      "dtypes: float64(2), int64(3), object(2)\n",
      "memory usage: 15.9+ KB\n",
      "None\n"
     ]
    },
    {
     "data": {
      "text/html": [
       "<div>\n",
       "<style scoped>\n",
       "    .dataframe tbody tr th:only-of-type {\n",
       "        vertical-align: middle;\n",
       "    }\n",
       "\n",
       "    .dataframe tbody tr th {\n",
       "        vertical-align: top;\n",
       "    }\n",
       "\n",
       "    .dataframe thead th {\n",
       "        text-align: right;\n",
       "    }\n",
       "</style>\n",
       "<table border=\"1\" class=\"dataframe\">\n",
       "  <thead>\n",
       "    <tr style=\"text-align: right;\">\n",
       "      <th></th>\n",
       "      <th>Date</th>\n",
       "      <th>Country</th>\n",
       "      <th>NumDay</th>\n",
       "      <th>LP</th>\n",
       "      <th>GDP</th>\n",
       "      <th>Year</th>\n",
       "      <th>Quarter</th>\n",
       "    </tr>\n",
       "  </thead>\n",
       "  <tbody>\n",
       "    <tr>\n",
       "      <th>0</th>\n",
       "      <td>30.03.1996</td>\n",
       "      <td>DE</td>\n",
       "      <td>0</td>\n",
       "      <td>86.8</td>\n",
       "      <td>76.622</td>\n",
       "      <td>1996</td>\n",
       "      <td>1</td>\n",
       "    </tr>\n",
       "    <tr>\n",
       "      <th>1</th>\n",
       "      <td>30.06.1996</td>\n",
       "      <td>DE</td>\n",
       "      <td>13</td>\n",
       "      <td>87.9</td>\n",
       "      <td>77.663</td>\n",
       "      <td>1996</td>\n",
       "      <td>2</td>\n",
       "    </tr>\n",
       "    <tr>\n",
       "      <th>2</th>\n",
       "      <td>30.09.1996</td>\n",
       "      <td>DE</td>\n",
       "      <td>8</td>\n",
       "      <td>88.3</td>\n",
       "      <td>77.934</td>\n",
       "      <td>1996</td>\n",
       "      <td>3</td>\n",
       "    </tr>\n",
       "    <tr>\n",
       "      <th>3</th>\n",
       "      <td>30.12.1996</td>\n",
       "      <td>DE</td>\n",
       "      <td>0</td>\n",
       "      <td>89.1</td>\n",
       "      <td>78.514</td>\n",
       "      <td>1996</td>\n",
       "      <td>4</td>\n",
       "    </tr>\n",
       "    <tr>\n",
       "      <th>4</th>\n",
       "      <td>30.03.1997</td>\n",
       "      <td>DE</td>\n",
       "      <td>0</td>\n",
       "      <td>88.7</td>\n",
       "      <td>78.096</td>\n",
       "      <td>1997</td>\n",
       "      <td>1</td>\n",
       "    </tr>\n",
       "    <tr>\n",
       "      <th>...</th>\n",
       "      <td>...</td>\n",
       "      <td>...</td>\n",
       "      <td>...</td>\n",
       "      <td>...</td>\n",
       "      <td>...</td>\n",
       "      <td>...</td>\n",
       "      <td>...</td>\n",
       "    </tr>\n",
       "    <tr>\n",
       "      <th>283</th>\n",
       "      <td>30.12.2018</td>\n",
       "      <td>NL</td>\n",
       "      <td>0</td>\n",
       "      <td>100.7</td>\n",
       "      <td>108.272</td>\n",
       "      <td>2018</td>\n",
       "      <td>4</td>\n",
       "    </tr>\n",
       "    <tr>\n",
       "      <th>284</th>\n",
       "      <td>30.03.2019</td>\n",
       "      <td>NL</td>\n",
       "      <td>0</td>\n",
       "      <td>100.6</td>\n",
       "      <td>108.811</td>\n",
       "      <td>2019</td>\n",
       "      <td>1</td>\n",
       "    </tr>\n",
       "    <tr>\n",
       "      <th>285</th>\n",
       "      <td>30.06.2019</td>\n",
       "      <td>NL</td>\n",
       "      <td>14</td>\n",
       "      <td>100.7</td>\n",
       "      <td>109.203</td>\n",
       "      <td>2019</td>\n",
       "      <td>2</td>\n",
       "    </tr>\n",
       "    <tr>\n",
       "      <th>286</th>\n",
       "      <td>30.09.2019</td>\n",
       "      <td>NL</td>\n",
       "      <td>37</td>\n",
       "      <td>100.8</td>\n",
       "      <td>109.569</td>\n",
       "      <td>2019</td>\n",
       "      <td>3</td>\n",
       "    </tr>\n",
       "    <tr>\n",
       "      <th>287</th>\n",
       "      <td>30.12.2019</td>\n",
       "      <td>NL</td>\n",
       "      <td>0</td>\n",
       "      <td>100.8</td>\n",
       "      <td>110.072</td>\n",
       "      <td>2019</td>\n",
       "      <td>4</td>\n",
       "    </tr>\n",
       "  </tbody>\n",
       "</table>\n",
       "<p>288 rows × 7 columns</p>\n",
       "</div>"
      ],
      "text/plain": [
       "           Date Country  NumDay     LP      GDP  Year  Quarter\n",
       "0    30.03.1996      DE       0   86.8   76.622  1996        1\n",
       "1    30.06.1996      DE      13   87.9   77.663  1996        2\n",
       "2    30.09.1996      DE       8   88.3   77.934  1996        3\n",
       "3    30.12.1996      DE       0   89.1   78.514  1996        4\n",
       "4    30.03.1997      DE       0   88.7   78.096  1997        1\n",
       "..          ...     ...     ...    ...      ...   ...      ...\n",
       "283  30.12.2018      NL       0  100.7  108.272  2018        4\n",
       "284  30.03.2019      NL       0  100.6  108.811  2019        1\n",
       "285  30.06.2019      NL      14  100.7  109.203  2019        2\n",
       "286  30.09.2019      NL      37  100.8  109.569  2019        3\n",
       "287  30.12.2019      NL       0  100.8  110.072  2019        4\n",
       "\n",
       "[288 rows x 7 columns]"
      ]
     },
     "execution_count": 6,
     "metadata": {},
     "output_type": "execute_result"
    }
   ],
   "source": [
    "df['Date'] = pd.to_datetime(df['Date'])\n",
    "df['Date'] = df['Date'].dt.strftime('%d.%m.%Y')\n",
    "df['Year'] = pd.DatetimeIndex(df['Date']).year\n",
    "df['Quarter'] = pd.DatetimeIndex(df['Date']).quarter\n",
    "print(df.info())\n",
    "df"
   ]
  },
  {
   "cell_type": "code",
   "execution_count": 7,
   "id": "91dbbe38",
   "metadata": {},
   "outputs": [
    {
     "data": {
      "text/html": [
       "<div>\n",
       "<style scoped>\n",
       "    .dataframe tbody tr th:only-of-type {\n",
       "        vertical-align: middle;\n",
       "    }\n",
       "\n",
       "    .dataframe tbody tr th {\n",
       "        vertical-align: top;\n",
       "    }\n",
       "\n",
       "    .dataframe thead th {\n",
       "        text-align: right;\n",
       "    }\n",
       "</style>\n",
       "<table border=\"1\" class=\"dataframe\">\n",
       "  <thead>\n",
       "    <tr style=\"text-align: right;\">\n",
       "      <th></th>\n",
       "      <th>Date</th>\n",
       "      <th>Country</th>\n",
       "      <th>NumDay</th>\n",
       "      <th>LP</th>\n",
       "      <th>GDP</th>\n",
       "      <th>Year</th>\n",
       "      <th>Quarter</th>\n",
       "      <th>Country_DE</th>\n",
       "      <th>Country_ES</th>\n",
       "      <th>Country_NL</th>\n",
       "    </tr>\n",
       "  </thead>\n",
       "  <tbody>\n",
       "    <tr>\n",
       "      <th>0</th>\n",
       "      <td>30.03.1996</td>\n",
       "      <td>DE</td>\n",
       "      <td>0</td>\n",
       "      <td>86.8</td>\n",
       "      <td>76.622</td>\n",
       "      <td>1996</td>\n",
       "      <td>1</td>\n",
       "      <td>1</td>\n",
       "      <td>0</td>\n",
       "      <td>0</td>\n",
       "    </tr>\n",
       "    <tr>\n",
       "      <th>1</th>\n",
       "      <td>30.06.1996</td>\n",
       "      <td>DE</td>\n",
       "      <td>13</td>\n",
       "      <td>87.9</td>\n",
       "      <td>77.663</td>\n",
       "      <td>1996</td>\n",
       "      <td>2</td>\n",
       "      <td>1</td>\n",
       "      <td>0</td>\n",
       "      <td>0</td>\n",
       "    </tr>\n",
       "    <tr>\n",
       "      <th>2</th>\n",
       "      <td>30.09.1996</td>\n",
       "      <td>DE</td>\n",
       "      <td>8</td>\n",
       "      <td>88.3</td>\n",
       "      <td>77.934</td>\n",
       "      <td>1996</td>\n",
       "      <td>3</td>\n",
       "      <td>1</td>\n",
       "      <td>0</td>\n",
       "      <td>0</td>\n",
       "    </tr>\n",
       "    <tr>\n",
       "      <th>3</th>\n",
       "      <td>30.12.1996</td>\n",
       "      <td>DE</td>\n",
       "      <td>0</td>\n",
       "      <td>89.1</td>\n",
       "      <td>78.514</td>\n",
       "      <td>1996</td>\n",
       "      <td>4</td>\n",
       "      <td>1</td>\n",
       "      <td>0</td>\n",
       "      <td>0</td>\n",
       "    </tr>\n",
       "    <tr>\n",
       "      <th>4</th>\n",
       "      <td>30.03.1997</td>\n",
       "      <td>DE</td>\n",
       "      <td>0</td>\n",
       "      <td>88.7</td>\n",
       "      <td>78.096</td>\n",
       "      <td>1997</td>\n",
       "      <td>1</td>\n",
       "      <td>1</td>\n",
       "      <td>0</td>\n",
       "      <td>0</td>\n",
       "    </tr>\n",
       "    <tr>\n",
       "      <th>...</th>\n",
       "      <td>...</td>\n",
       "      <td>...</td>\n",
       "      <td>...</td>\n",
       "      <td>...</td>\n",
       "      <td>...</td>\n",
       "      <td>...</td>\n",
       "      <td>...</td>\n",
       "      <td>...</td>\n",
       "      <td>...</td>\n",
       "      <td>...</td>\n",
       "    </tr>\n",
       "    <tr>\n",
       "      <th>283</th>\n",
       "      <td>30.12.2018</td>\n",
       "      <td>NL</td>\n",
       "      <td>0</td>\n",
       "      <td>100.7</td>\n",
       "      <td>108.272</td>\n",
       "      <td>2018</td>\n",
       "      <td>4</td>\n",
       "      <td>0</td>\n",
       "      <td>0</td>\n",
       "      <td>1</td>\n",
       "    </tr>\n",
       "    <tr>\n",
       "      <th>284</th>\n",
       "      <td>30.03.2019</td>\n",
       "      <td>NL</td>\n",
       "      <td>0</td>\n",
       "      <td>100.6</td>\n",
       "      <td>108.811</td>\n",
       "      <td>2019</td>\n",
       "      <td>1</td>\n",
       "      <td>0</td>\n",
       "      <td>0</td>\n",
       "      <td>1</td>\n",
       "    </tr>\n",
       "    <tr>\n",
       "      <th>285</th>\n",
       "      <td>30.06.2019</td>\n",
       "      <td>NL</td>\n",
       "      <td>14</td>\n",
       "      <td>100.7</td>\n",
       "      <td>109.203</td>\n",
       "      <td>2019</td>\n",
       "      <td>2</td>\n",
       "      <td>0</td>\n",
       "      <td>0</td>\n",
       "      <td>1</td>\n",
       "    </tr>\n",
       "    <tr>\n",
       "      <th>286</th>\n",
       "      <td>30.09.2019</td>\n",
       "      <td>NL</td>\n",
       "      <td>37</td>\n",
       "      <td>100.8</td>\n",
       "      <td>109.569</td>\n",
       "      <td>2019</td>\n",
       "      <td>3</td>\n",
       "      <td>0</td>\n",
       "      <td>0</td>\n",
       "      <td>1</td>\n",
       "    </tr>\n",
       "    <tr>\n",
       "      <th>287</th>\n",
       "      <td>30.12.2019</td>\n",
       "      <td>NL</td>\n",
       "      <td>0</td>\n",
       "      <td>100.8</td>\n",
       "      <td>110.072</td>\n",
       "      <td>2019</td>\n",
       "      <td>4</td>\n",
       "      <td>0</td>\n",
       "      <td>0</td>\n",
       "      <td>1</td>\n",
       "    </tr>\n",
       "  </tbody>\n",
       "</table>\n",
       "<p>288 rows × 10 columns</p>\n",
       "</div>"
      ],
      "text/plain": [
       "           Date Country  NumDay     LP      GDP  Year  Quarter  Country_DE  \\\n",
       "0    30.03.1996      DE       0   86.8   76.622  1996        1           1   \n",
       "1    30.06.1996      DE      13   87.9   77.663  1996        2           1   \n",
       "2    30.09.1996      DE       8   88.3   77.934  1996        3           1   \n",
       "3    30.12.1996      DE       0   89.1   78.514  1996        4           1   \n",
       "4    30.03.1997      DE       0   88.7   78.096  1997        1           1   \n",
       "..          ...     ...     ...    ...      ...   ...      ...         ...   \n",
       "283  30.12.2018      NL       0  100.7  108.272  2018        4           0   \n",
       "284  30.03.2019      NL       0  100.6  108.811  2019        1           0   \n",
       "285  30.06.2019      NL      14  100.7  109.203  2019        2           0   \n",
       "286  30.09.2019      NL      37  100.8  109.569  2019        3           0   \n",
       "287  30.12.2019      NL       0  100.8  110.072  2019        4           0   \n",
       "\n",
       "     Country_ES  Country_NL  \n",
       "0             0           0  \n",
       "1             0           0  \n",
       "2             0           0  \n",
       "3             0           0  \n",
       "4             0           0  \n",
       "..          ...         ...  \n",
       "283           0           1  \n",
       "284           0           1  \n",
       "285           0           1  \n",
       "286           0           1  \n",
       "287           0           1  \n",
       "\n",
       "[288 rows x 10 columns]"
      ]
     },
     "execution_count": 7,
     "metadata": {},
     "output_type": "execute_result"
    }
   ],
   "source": [
    "# dummy encoding\n",
    "df['Country_'] = df['Country']\n",
    "df = pd.get_dummies(df, columns=['Country_'], drop_first=False, prefix='Country')\n",
    "df"
   ]
  },
  {
   "cell_type": "markdown",
   "id": "52ca09c8",
   "metadata": {},
   "source": [
    "## Time series"
   ]
  },
  {
   "cell_type": "code",
   "execution_count": 8,
   "id": "1710d9b1",
   "metadata": {},
   "outputs": [
    {
     "data": {
      "image/png": "[encoded data removed]",
      "text/plain": [
       "<Figure size 3600x576 with 1 Axes>"
      ]
     },
     "metadata": {
      "needs_background": "light"
     },
     "output_type": "display_data"
    }
   ],
   "source": [
    "plt.figure(figsize=(50, 8))\n",
    "plt.plot(df.loc[df['Country'] == 'DE']['Date'], df.loc[df['Country'] == 'DE']['LP'], \n",
    "         'b-', label = 'DE')\n",
    "plt.plot(df.loc[df['Country'] == 'NL']['Date'], df.loc[df['Country'] == 'NL']['LP'], \n",
    "         'r-', label = 'NL')\n",
    "plt.plot(df.loc[df['Country'] == 'ES']['Date'], df.loc[df['Country'] == 'ES']['LP'], \n",
    "         'g-', label = 'ES')\n",
    "plt.xlabel('Date'); \n",
    "plt.ylabel('LP'); \n",
    "plt.legend();"
   ]
  },
  {
   "cell_type": "code",
   "execution_count": 9,
   "id": "c25fa5f7",
   "metadata": {},
   "outputs": [
    {
     "data": {
      "image/png": "[encoded data removed]",
      "text/plain": [
       "<Figure size 3600x576 with 1 Axes>"
      ]
     },
     "metadata": {
      "needs_background": "light"
     },
     "output_type": "display_data"
    }
   ],
   "source": [
    "plt.figure(figsize=(50, 8))\n",
    "plt.plot(df.loc[df['Country'] == 'DE']['Date'], df.loc[df['Country'] == 'DE']['GDP'], \n",
    "         'b-', label = 'DE')\n",
    "plt.plot(df.loc[df['Country'] == 'NL']['Date'], df.loc[df['Country'] == 'NL']['GDP'], \n",
    "         'r-', label = 'NL')\n",
    "plt.plot(df.loc[df['Country'] == 'ES']['Date'], df.loc[df['Country'] == 'ES']['GDP'], \n",
    "         'g-', label = 'ES')\n",
    "plt.xlabel('Date'); \n",
    "plt.ylabel('GDP'); \n",
    "plt.legend();"
   ]
  },
  {
   "cell_type": "markdown",
   "id": "3b3b3edc",
   "metadata": {},
   "source": [
    "## Machine learning models"
   ]
  },
  {
   "cell_type": "code",
   "execution_count": 10,
   "id": "378c7b00",
   "metadata": {},
   "outputs": [],
   "source": [
    "from sklearn import model_selection\n",
    "from sklearn.tree import DecisionTreeRegressor\n",
    "from sklearn.ensemble import RandomForestRegressor\n",
    "from sklearn.metrics import r2_score\n",
    "from sklearn.metrics import mean_squared_error\n",
    "from math import sqrt"
   ]
  },
  {
   "cell_type": "code",
   "execution_count": 11,
   "id": "d4c3f106",
   "metadata": {},
   "outputs": [],
   "source": [
    "from sklearn.model_selection import train_test_split\n",
    "target_column_test = ['LP'] \n",
    "predictors_test = ['NumDay', 'Year', 'Quarter',\n",
    "                  'Country_DE', 'Country_ES', 'Country_NL']\n",
    "X_train, X_test, y_train, y_test = train_test_split(\n",
    "    df[predictors_test], df[target_column_test], test_size=0.20, random_state=0)"
   ]
  },
  {
   "cell_type": "markdown",
   "id": "d25c5125",
   "metadata": {},
   "source": [
    "### Decision trees"
   ]
  },
  {
   "cell_type": "code",
   "execution_count": 18,
   "id": "2bad02e3",
   "metadata": {},
   "outputs": [
    {
     "name": "stdout",
     "output_type": "stream",
     "text": [
      "{'max_depth': 9, 'min_samples_split': 10}\n",
      "1.0920072936932415\n"
     ]
    }
   ],
   "source": [
    "# 5-fold cross-validation\n",
    "from sklearn.model_selection import GridSearchCV\n",
    "\n",
    "model = DecisionTreeRegressor()\n",
    "gs = GridSearchCV(model,\n",
    "                  param_grid = {'max_depth': range(1, 11),\n",
    "                                'min_samples_split': range(10, 60, 10)},\n",
    "                  cv=5,\n",
    "                  n_jobs=1,\n",
    "                  scoring='neg_mean_squared_error')\n",
    "\n",
    "gs.fit(X_train, y_train)\n",
    "\n",
    "print(gs.best_params_)\n",
    "print(-gs.best_score_)"
   ]
  },
  {
   "cell_type": "code",
   "execution_count": 19,
   "id": "6790a850",
   "metadata": {},
   "outputs": [
    {
     "data": {
      "text/plain": [
       "DecisionTreeRegressor(max_depth=9, min_samples_split=10)"
      ]
     },
     "execution_count": 19,
     "metadata": {},
     "output_type": "execute_result"
    }
   ],
   "source": [
    "new_model = DecisionTreeRegressor(max_depth=9,\n",
    "                                  min_samples_split=10)\n",
    "#or new_model = gs.best_estimator_\n",
    "new_model.fit(X_train, y_train)"
   ]
  },
  {
   "cell_type": "code",
   "execution_count": 20,
   "id": "9a85a407",
   "metadata": {},
   "outputs": [
    {
     "data": {
      "text/html": [
       "<div>\n",
       "<style scoped>\n",
       "    .dataframe tbody tr th:only-of-type {\n",
       "        vertical-align: middle;\n",
       "    }\n",
       "\n",
       "    .dataframe tbody tr th {\n",
       "        vertical-align: top;\n",
       "    }\n",
       "\n",
       "    .dataframe thead th {\n",
       "        text-align: right;\n",
       "    }\n",
       "</style>\n",
       "<table border=\"1\" class=\"dataframe\">\n",
       "  <thead>\n",
       "    <tr style=\"text-align: right;\">\n",
       "      <th></th>\n",
       "      <th>Variable</th>\n",
       "      <th>Importance</th>\n",
       "    </tr>\n",
       "  </thead>\n",
       "  <tbody>\n",
       "    <tr>\n",
       "      <th>1</th>\n",
       "      <td>Year</td>\n",
       "      <td>0.877961</td>\n",
       "    </tr>\n",
       "    <tr>\n",
       "      <th>4</th>\n",
       "      <td>Country_ES</td>\n",
       "      <td>0.078168</td>\n",
       "    </tr>\n",
       "    <tr>\n",
       "      <th>5</th>\n",
       "      <td>Country_NL</td>\n",
       "      <td>0.032263</td>\n",
       "    </tr>\n",
       "    <tr>\n",
       "      <th>3</th>\n",
       "      <td>Country_DE</td>\n",
       "      <td>0.011016</td>\n",
       "    </tr>\n",
       "    <tr>\n",
       "      <th>0</th>\n",
       "      <td>NumDay</td>\n",
       "      <td>0.000303</td>\n",
       "    </tr>\n",
       "    <tr>\n",
       "      <th>2</th>\n",
       "      <td>Quarter</td>\n",
       "      <td>0.000289</td>\n",
       "    </tr>\n",
       "  </tbody>\n",
       "</table>\n",
       "</div>"
      ],
      "text/plain": [
       "     Variable  Importance\n",
       "1        Year    0.877961\n",
       "4  Country_ES    0.078168\n",
       "5  Country_NL    0.032263\n",
       "3  Country_DE    0.011016\n",
       "0      NumDay    0.000303\n",
       "2     Quarter    0.000289"
      ]
     },
     "execution_count": 20,
     "metadata": {},
     "output_type": "execute_result"
    }
   ],
   "source": [
    "# the more importance, the more relevant the variable is, according to the model.\n",
    "pd.DataFrame({'Variable':X_train.columns,\n",
    "              'Importance':new_model.feature_importances_}).sort_values('Importance', \n",
    "                                                                        ascending=False)"
   ]
  },
  {
   "cell_type": "code",
   "execution_count": 21,
   "id": "dcfebae2",
   "metadata": {},
   "outputs": [
    {
     "name": "stdout",
     "output_type": "stream",
     "text": [
      "0.6035360062457406\n",
      "0.9845769576775952\n"
     ]
    }
   ],
   "source": [
    "pred_train_tree= new_model.predict(X_train)\n",
    "print(np.sqrt(mean_squared_error(y_train,pred_train_tree)))\n",
    "print(r2_score(y_train, pred_train_tree))"
   ]
  },
  {
   "cell_type": "code",
   "execution_count": 22,
   "id": "6201ef04",
   "metadata": {},
   "outputs": [
    {
     "name": "stdout",
     "output_type": "stream",
     "text": [
      "0.8476539605553967\n",
      "0.9671839959472702\n"
     ]
    }
   ],
   "source": [
    "pred_test_tree= new_model.predict(X_test)\n",
    "print(np.sqrt(mean_squared_error(y_test,pred_test_tree))) \n",
    "print(r2_score(y_test, pred_test_tree))"
   ]
  },
  {
   "cell_type": "markdown",
   "id": "2aada012",
   "metadata": {},
   "source": [
    "### Random Forest"
   ]
  },
  {
   "cell_type": "code",
   "execution_count": 23,
   "id": "992d20a9",
   "metadata": {},
   "outputs": [
    {
     "name": "stdout",
     "output_type": "stream",
     "text": [
      "{'max_depth': 8, 'min_samples_split': 10}\n",
      "0.9746899073542881\n"
     ]
    }
   ],
   "source": [
    "# 5-fold cross-validation\n",
    "from sklearn.model_selection import GridSearchCV\n",
    "\n",
    "model = RandomForestRegressor()\n",
    "gs = GridSearchCV(model,\n",
    "                  param_grid = {'max_depth': range(1, 11),\n",
    "                                'min_samples_split': range(10, 60, 10)},\n",
    "                  cv=5,\n",
    "                  n_jobs=1,\n",
    "                  scoring='neg_mean_squared_error')\n",
    "\n",
    "gs.fit(X_train, y_train.values.ravel())\n",
    "\n",
    "print(gs.best_params_)\n",
    "print(-gs.best_score_)"
   ]
  },
  {
   "cell_type": "code",
   "execution_count": 24,
   "id": "71d855c8",
   "metadata": {},
   "outputs": [
    {
     "name": "stdout",
     "output_type": "stream",
     "text": [
      "0.6670621608201691\n",
      "0.9811593321697375\n",
      "0.7702345970239436\n",
      "0.9729046634410544\n"
     ]
    }
   ],
   "source": [
    "new_model = RandomForestRegressor(max_depth=8,\n",
    "                                  min_samples_split=10)\n",
    "#or new_model = gs.best_estimator_\n",
    "new_model.fit(X_train, y_train.values.ravel())\n",
    "pred_train_tree= new_model.predict(X_train)\n",
    "print(np.sqrt(mean_squared_error(y_train,pred_train_tree)))\n",
    "print(r2_score(y_train, pred_train_tree))\n",
    "pred_test_tree= new_model.predict(X_test)\n",
    "print(np.sqrt(mean_squared_error(y_test,pred_test_tree))) \n",
    "print(r2_score(y_test, pred_test_tree))"
   ]
  },
  {
   "cell_type": "code",
   "execution_count": 25,
   "id": "99e67d73",
   "metadata": {},
   "outputs": [
    {
     "data": {
      "text/html": [
       "<div>\n",
       "<style scoped>\n",
       "    .dataframe tbody tr th:only-of-type {\n",
       "        vertical-align: middle;\n",
       "    }\n",
       "\n",
       "    .dataframe tbody tr th {\n",
       "        vertical-align: top;\n",
       "    }\n",
       "\n",
       "    .dataframe thead th {\n",
       "        text-align: right;\n",
       "    }\n",
       "</style>\n",
       "<table border=\"1\" class=\"dataframe\">\n",
       "  <thead>\n",
       "    <tr style=\"text-align: right;\">\n",
       "      <th></th>\n",
       "      <th>Variable</th>\n",
       "      <th>Importance</th>\n",
       "    </tr>\n",
       "  </thead>\n",
       "  <tbody>\n",
       "    <tr>\n",
       "      <th>1</th>\n",
       "      <td>Year</td>\n",
       "      <td>0.893930</td>\n",
       "    </tr>\n",
       "    <tr>\n",
       "      <th>4</th>\n",
       "      <td>Country_ES</td>\n",
       "      <td>0.063499</td>\n",
       "    </tr>\n",
       "    <tr>\n",
       "      <th>5</th>\n",
       "      <td>Country_NL</td>\n",
       "      <td>0.028288</td>\n",
       "    </tr>\n",
       "    <tr>\n",
       "      <th>3</th>\n",
       "      <td>Country_DE</td>\n",
       "      <td>0.012101</td>\n",
       "    </tr>\n",
       "    <tr>\n",
       "      <th>0</th>\n",
       "      <td>NumDay</td>\n",
       "      <td>0.001292</td>\n",
       "    </tr>\n",
       "    <tr>\n",
       "      <th>2</th>\n",
       "      <td>Quarter</td>\n",
       "      <td>0.000890</td>\n",
       "    </tr>\n",
       "  </tbody>\n",
       "</table>\n",
       "</div>"
      ],
      "text/plain": [
       "     Variable  Importance\n",
       "1        Year    0.893930\n",
       "4  Country_ES    0.063499\n",
       "5  Country_NL    0.028288\n",
       "3  Country_DE    0.012101\n",
       "0      NumDay    0.001292\n",
       "2     Quarter    0.000890"
      ]
     },
     "execution_count": 25,
     "metadata": {},
     "output_type": "execute_result"
    }
   ],
   "source": [
    "# the more importance, the more relevant the variable is, according to the model.\n",
    "pd.DataFrame({'Variable':X_train.columns,\n",
    "              'Importance':new_model.feature_importances_}).sort_values('Importance', \n",
    "                                                                        ascending=False)"
   ]
  },
  {
   "cell_type": "markdown",
   "id": "da7567f3",
   "metadata": {},
   "source": [
    "### Linear Mixed-Effects Models Using lme4"
   ]
  },
  {
   "cell_type": "code",
   "execution_count": 30,
   "id": "e34a6035",
   "metadata": {},
   "outputs": [
    {
     "name": "stdout",
     "output_type": "stream",
     "text": [
      "boundary (singular) fit: see ?isSingular \n",
      "\n",
      "Formula: LP~Year+Quarter+NumDay+(Quarter|Country)\n",
      "\n",
      "Family: gaussian\t Inference: parametric\n",
      "\n",
      "Number of observations: 288\t Groups: {'Country': 3.0}\n",
      "\n",
      "Log-likelihood: -579.467 \t AIC: 1158.934\n",
      "\n",
      "Random effects:\n",
      "\n",
      "                 Name    Var    Std\n",
      "Country   (Intercept)  1.187  1.090\n",
      "Country       Quarter  0.000  0.020\n",
      "Residual               3.015  1.736\n",
      "\n",
      "                 IV1      IV2  Corr\n",
      "Country  (Intercept)  Quarter   1.0\n",
      "\n",
      "Fixed effects:\n",
      "\n"
     ]
    },
    {
     "data": {
      "text/html": [
       "<div>\n",
       "<style scoped>\n",
       "    .dataframe tbody tr th:only-of-type {\n",
       "        vertical-align: middle;\n",
       "    }\n",
       "\n",
       "    .dataframe tbody tr th {\n",
       "        vertical-align: top;\n",
       "    }\n",
       "\n",
       "    .dataframe thead th {\n",
       "        text-align: right;\n",
       "    }\n",
       "</style>\n",
       "<table border=\"1\" class=\"dataframe\">\n",
       "  <thead>\n",
       "    <tr style=\"text-align: right;\">\n",
       "      <th></th>\n",
       "      <th>Estimate</th>\n",
       "      <th>2.5_ci</th>\n",
       "      <th>97.5_ci</th>\n",
       "      <th>SE</th>\n",
       "      <th>DF</th>\n",
       "      <th>T-stat</th>\n",
       "      <th>P-val</th>\n",
       "      <th>Sig</th>\n",
       "    </tr>\n",
       "  </thead>\n",
       "  <tbody>\n",
       "    <tr>\n",
       "      <th>(Intercept)</th>\n",
       "      <td>-1183.678</td>\n",
       "      <td>-1242.224</td>\n",
       "      <td>-1125.132</td>\n",
       "      <td>29.871</td>\n",
       "      <td>282.246</td>\n",
       "      <td>-39.626</td>\n",
       "      <td>0.000</td>\n",
       "      <td>***</td>\n",
       "    </tr>\n",
       "    <tr>\n",
       "      <th>Year</th>\n",
       "      <td>0.637</td>\n",
       "      <td>0.608</td>\n",
       "      <td>0.666</td>\n",
       "      <td>0.015</td>\n",
       "      <td>282.000</td>\n",
       "      <td>42.794</td>\n",
       "      <td>0.000</td>\n",
       "      <td>***</td>\n",
       "    </tr>\n",
       "    <tr>\n",
       "      <th>Quarter</th>\n",
       "      <td>0.191</td>\n",
       "      <td>0.008</td>\n",
       "      <td>0.373</td>\n",
       "      <td>0.093</td>\n",
       "      <td>52.004</td>\n",
       "      <td>2.049</td>\n",
       "      <td>0.046</td>\n",
       "      <td>*</td>\n",
       "    </tr>\n",
       "    <tr>\n",
       "      <th>NumDay</th>\n",
       "      <td>-0.003</td>\n",
       "      <td>-0.017</td>\n",
       "      <td>0.012</td>\n",
       "      <td>0.007</td>\n",
       "      <td>282.002</td>\n",
       "      <td>-0.347</td>\n",
       "      <td>0.729</td>\n",
       "      <td></td>\n",
       "    </tr>\n",
       "  </tbody>\n",
       "</table>\n",
       "</div>"
      ],
      "text/plain": [
       "             Estimate    2.5_ci   97.5_ci      SE       DF  T-stat  P-val  Sig\n",
       "(Intercept) -1183.678 -1242.224 -1125.132  29.871  282.246 -39.626  0.000  ***\n",
       "Year            0.637     0.608     0.666   0.015  282.000  42.794  0.000  ***\n",
       "Quarter         0.191     0.008     0.373   0.093   52.004   2.049  0.046    *\n",
       "NumDay         -0.003    -0.017     0.012   0.007  282.002  -0.347  0.729     "
      ]
     },
     "metadata": {},
     "output_type": "display_data"
    },
    {
     "name": "stdout",
     "output_type": "stream",
     "text": [
      "SS Type III Analysis of Variance Table with Satterthwaite approximated degrees of freedom:\n",
      "(NOTE: Using original model contrasts, orthogonality not guaranteed)\n"
     ]
    },
    {
     "data": {
      "text/html": [
       "<div>\n",
       "<style scoped>\n",
       "    .dataframe tbody tr th:only-of-type {\n",
       "        vertical-align: middle;\n",
       "    }\n",
       "\n",
       "    .dataframe tbody tr th {\n",
       "        vertical-align: top;\n",
       "    }\n",
       "\n",
       "    .dataframe thead th {\n",
       "        text-align: right;\n",
       "    }\n",
       "</style>\n",
       "<table border=\"1\" class=\"dataframe\">\n",
       "  <thead>\n",
       "    <tr style=\"text-align: right;\">\n",
       "      <th></th>\n",
       "      <th>SS</th>\n",
       "      <th>MS</th>\n",
       "      <th>NumDF</th>\n",
       "      <th>DenomDF</th>\n",
       "      <th>F-stat</th>\n",
       "      <th>P-val</th>\n",
       "      <th>Sig</th>\n",
       "    </tr>\n",
       "  </thead>\n",
       "  <tbody>\n",
       "    <tr>\n",
       "      <th>0</th>\n",
       "      <td>5522.113634</td>\n",
       "      <td>5522.113634</td>\n",
       "      <td>1</td>\n",
       "      <td>282.000198</td>\n",
       "      <td>1831.307211</td>\n",
       "      <td>2.358519e-125</td>\n",
       "      <td>***</td>\n",
       "    </tr>\n",
       "    <tr>\n",
       "      <th>1</th>\n",
       "      <td>12.661394</td>\n",
       "      <td>12.661394</td>\n",
       "      <td>1</td>\n",
       "      <td>52.003600</td>\n",
       "      <td>4.198918</td>\n",
       "      <td>4.551045e-02</td>\n",
       "      <td>*</td>\n",
       "    </tr>\n",
       "    <tr>\n",
       "      <th>2</th>\n",
       "      <td>0.362410</td>\n",
       "      <td>0.362410</td>\n",
       "      <td>1</td>\n",
       "      <td>282.001830</td>\n",
       "      <td>0.120187</td>\n",
       "      <td>7.290907e-01</td>\n",
       "      <td></td>\n",
       "    </tr>\n",
       "  </tbody>\n",
       "</table>\n",
       "</div>"
      ],
      "text/plain": [
       "            SS           MS  NumDF     DenomDF       F-stat          P-val  \\\n",
       "0  5522.113634  5522.113634      1  282.000198  1831.307211  2.358519e-125   \n",
       "1    12.661394    12.661394      1   52.003600     4.198918   4.551045e-02   \n",
       "2     0.362410     0.362410      1  282.001830     0.120187   7.290907e-01   \n",
       "\n",
       "   Sig  \n",
       "0  ***  \n",
       "1    *  \n",
       "2       "
      ]
     },
     "metadata": {},
     "output_type": "display_data"
    }
   ],
   "source": [
    "# Install pymer4\n",
    "# !pip install -q pymer4\n",
    "# load pymer4\n",
    "from pymer4.models import Lmer\n",
    "model = Lmer('LP ~ Year + Quarter + NumDay + (Quarter |Country)', data=df)\n",
    "display(model.fit())\n",
    "# ANOVA results from fitted model\n",
    "display(model.anova())"
   ]
  },
  {
   "cell_type": "markdown",
   "id": "e9cf5a37",
   "metadata": {},
   "source": [
    "### regression (gradient descent)"
   ]
  },
  {
   "cell_type": "code",
   "execution_count": 31,
   "id": "cf127c24",
   "metadata": {},
   "outputs": [
    {
     "name": "stdout",
     "output_type": "stream",
     "text": [
      "Index(['Date', 'Country', 'NumDay', 'LP', 'GDP', 'Year', 'Quarter',\n",
      "       'Country_DE', 'Country_ES', 'Country_NL'],\n",
      "      dtype='object')\n"
     ]
    },
    {
     "data": {
      "text/plain": [
       "Date          False\n",
       "Country       False\n",
       "NumDay        False\n",
       "LP            False\n",
       "GDP           False\n",
       "Year          False\n",
       "Quarter       False\n",
       "Country_DE    False\n",
       "Country_ES    False\n",
       "Country_NL    False\n",
       "dtype: bool"
      ]
     },
     "execution_count": 31,
     "metadata": {},
     "output_type": "execute_result"
    }
   ],
   "source": [
    "print(df.columns)\n",
    "pd.isna(df).any()"
   ]
  },
  {
   "cell_type": "code",
   "execution_count": 33,
   "id": "dade8933",
   "metadata": {},
   "outputs": [
    {
     "name": "stdout",
     "output_type": "stream",
     "text": [
      "288\n"
     ]
    }
   ],
   "source": [
    "x = df[predictors_test].values\n",
    "y = df[target_column_test].values.reshape(-1,1)\n",
    "m = len(y)\n",
    "print(m)"
   ]
  },
  {
   "cell_type": "code",
   "execution_count": 34,
   "id": "243f543d",
   "metadata": {},
   "outputs": [
    {
     "name": "stdout",
     "output_type": "stream",
     "text": [
      "Correlation between x1 and y = 0.10\n",
      "Correlation between x2 and y = 0.91\n",
      "Correlation between x3 and y = 0.04\n"
     ]
    }
   ],
   "source": [
    "from scipy.stats import pearsonr\n",
    "print(f'Correlation between x1 and y = {pearsonr(x[:,0],y[:,0])[0]:.2f}')\n",
    "print(f'Correlation between x2 and y = {pearsonr(x[:,1],y[:,0])[0]:.2f}')\n",
    "print(f'Correlation between x3 and y = {pearsonr(x[:,2],y[:,0])[0]:.2f}')\n",
    "# Correlation between year and LP = 0.91"
   ]
  },
  {
   "cell_type": "code",
   "execution_count": 35,
   "id": "d1545226",
   "metadata": {},
   "outputs": [
    {
     "data": {
      "text/plain": [
       "(288, 7)"
      ]
     },
     "execution_count": 35,
     "metadata": {},
     "output_type": "execute_result"
    }
   ],
   "source": [
    "# Add a bias to the input vector\n",
    "X = np.concatenate((np.ones((len(x),1)),x),axis=1)\n",
    "X.shape"
   ]
  },
  {
   "cell_type": "code",
   "execution_count": 36,
   "id": "a1a79ce2",
   "metadata": {},
   "outputs": [
    {
     "data": {
      "text/plain": [
       "array([[1.00000000e+00, 0.00000000e+00, 9.88608222e-01, 4.95294700e-04,\n",
       "        4.95294700e-04, 0.00000000e+00, 0.00000000e+00],\n",
       "       [1.00000000e+00, 6.43883110e-03, 9.88608222e-01, 9.90589401e-04,\n",
       "        4.95294700e-04, 0.00000000e+00, 0.00000000e+00],\n",
       "       [1.00000000e+00, 3.96235760e-03, 9.88608222e-01, 1.48588410e-03,\n",
       "        4.95294700e-04, 0.00000000e+00, 0.00000000e+00],\n",
       "       [1.00000000e+00, 0.00000000e+00, 9.88608222e-01, 1.98117880e-03,\n",
       "        4.95294700e-04, 0.00000000e+00, 0.00000000e+00],\n",
       "       [1.00000000e+00, 0.00000000e+00, 9.89103517e-01, 4.95294700e-04,\n",
       "        4.95294700e-04, 0.00000000e+00, 0.00000000e+00],\n",
       "       [1.00000000e+00, 0.00000000e+00, 9.89103517e-01, 9.90589401e-04,\n",
       "        4.95294700e-04, 0.00000000e+00, 0.00000000e+00],\n",
       "       [1.00000000e+00, 9.41059931e-03, 9.89103517e-01, 1.48588410e-03,\n",
       "        4.95294700e-04, 0.00000000e+00, 0.00000000e+00],\n",
       "       [1.00000000e+00, 0.00000000e+00, 9.89103517e-01, 1.98117880e-03,\n",
       "        4.95294700e-04, 0.00000000e+00, 0.00000000e+00],\n",
       "       [1.00000000e+00, 0.00000000e+00, 9.89598811e-01, 4.95294700e-04,\n",
       "        4.95294700e-04, 0.00000000e+00, 0.00000000e+00],\n",
       "       [1.00000000e+00, 3.96235760e-03, 9.89598811e-01, 9.90589401e-04,\n",
       "        4.95294700e-04, 0.00000000e+00, 0.00000000e+00]])"
      ]
     },
     "execution_count": 36,
     "metadata": {},
     "output_type": "execute_result"
    }
   ],
   "source": [
    "# data normalization\n",
    "Xnorm = X.copy()\n",
    "minx = np.min(X[:,1:])\n",
    "maxx = np.max(X[:,1:])\n",
    "Xnorm[:,1:] = (X[:,1:]-minx)/(maxx-minx)\n",
    "Xnorm[:10,:]"
   ]
  },
  {
   "cell_type": "code",
   "execution_count": 37,
   "id": "040ceac9",
   "metadata": {},
   "outputs": [
    {
     "data": {
      "text/plain": [
       "array([0.19306931, 0.24752475, 0.26732673, 0.30693069, 0.28712871,\n",
       "       0.33663366, 0.34653465, 0.37623762, 0.41089109, 0.36633663])"
      ]
     },
     "execution_count": 37,
     "metadata": {},
     "output_type": "execute_result"
    }
   ],
   "source": [
    "ynorm = y.copy()\n",
    "maxy = np.max(y)\n",
    "miny = np.min(y)\n",
    "ynorm = (y-miny)/(maxy - miny) \n",
    "ynorm[:10,0]"
   ]
  },
  {
   "cell_type": "code",
   "execution_count": 38,
   "id": "e5877e16",
   "metadata": {},
   "outputs": [
    {
     "data": {
      "text/plain": [
       "[<matplotlib.lines.Line2D at 0x7fae5a878130>]"
      ]
     },
     "execution_count": 38,
     "metadata": {},
     "output_type": "execute_result"
    },
    {
     "data": {
      "image/png": "[encoded data removed]",
      "text/plain": [
       "<Figure size 432x288 with 1 Axes>"
      ]
     },
     "metadata": {
      "needs_background": "light"
     },
     "output_type": "display_data"
    }
   ],
   "source": [
    "# Initial estimate of parameters\n",
    "theta0 = np.zeros((X.shape[1],1))+0.4\n",
    "#theta0 = np.array([[0],[0.5],[2],[0.5]])\n",
    "\n",
    "ypred = Xnorm.dot(theta0)\n",
    "\n",
    "sortidx = np.argsort(ynorm[:,0]) # sort the values for better visualization\n",
    "plt.plot(ynorm[sortidx,0],'o')\n",
    "plt.plot(ypred[sortidx,0],'--')"
   ]
  },
  {
   "cell_type": "code",
   "execution_count": 39,
   "id": "e3218781",
   "metadata": {},
   "outputs": [
    {
     "data": {
      "text/plain": [
       "array([[2.05394089e-01],\n",
       "       [7.77748257e-04],\n",
       "       [2.03482625e-01],\n",
       "       [2.48933563e-04],\n",
       "       [2.34638600e-05],\n",
       "       [4.17697319e-05],\n",
       "       [3.64970121e-05]])"
      ]
     },
     "execution_count": 39,
     "metadata": {},
     "output_type": "execute_result"
    }
   ],
   "source": [
    "# calculate gradient\n",
    "def grad(theta):\n",
    "    dJ = 1/m*np.sum((Xnorm.dot(theta)-ynorm)*Xnorm,axis=0).reshape(-1,1)\n",
    "    return dJ\n",
    "grad(theta0)"
   ]
  },
  {
   "cell_type": "code",
   "execution_count": 40,
   "id": "7c0cece3",
   "metadata": {},
   "outputs": [
    {
     "data": {
      "text/plain": [
       "28.36609858800351"
      ]
     },
     "execution_count": 40,
     "metadata": {},
     "output_type": "execute_result"
    }
   ],
   "source": [
    "def cost(theta):\n",
    "    J = np.sum((Xnorm.dot(theta)-ynorm)**2,axis=0)[0]\n",
    "    return J\n",
    "cost(theta0)"
   ]
  },
  {
   "cell_type": "code",
   "execution_count": 41,
   "id": "bd014195",
   "metadata": {},
   "outputs": [],
   "source": [
    "def GD(theta0,learning_rate = 0.5,epochs=1000,TOL=1e-7):\n",
    "    \n",
    "    theta_history = [theta0]\n",
    "    J_history = [cost(theta0)]\n",
    "    \n",
    "    thetanew = theta0*10000\n",
    "    print(f'epoch \\t Cost(J) \\t')\n",
    "    for epoch in range(epochs):\n",
    "        if epoch%100 == 0:\n",
    "            print(f'{epoch:5d}\\t{J_history[-1]:7.4f}\\t')\n",
    "        dJ = grad(theta0)\n",
    "        J = cost(theta0)\n",
    "        \n",
    "        thetanew = theta0 - learning_rate*dJ\n",
    "        theta_history.append(thetanew)\n",
    "        J_history.append(J)\n",
    "        \n",
    "        if np.sum((thetanew - theta0)**2) < TOL:\n",
    "            print('Convergence achieved.')\n",
    "            break\n",
    "        theta0 = thetanew\n",
    "\n",
    "    return thetanew,theta_history,J_history"
   ]
  },
  {
   "cell_type": "code",
   "execution_count": 42,
   "id": "07f31ba7",
   "metadata": {},
   "outputs": [
    {
     "name": "stdout",
     "output_type": "stream",
     "text": [
      "epoch \t Cost(J) \t\n",
      "    0\t28.3661\t\n",
      "Convergence achieved.\n"
     ]
    }
   ],
   "source": [
    "theta,theta_history,J_history = GD(theta0)"
   ]
  },
  {
   "cell_type": "code",
   "execution_count": 43,
   "id": "298bee4a",
   "metadata": {},
   "outputs": [
    {
     "data": {
      "text/plain": [
       "[<matplotlib.lines.Line2D at 0x7fae5d535dc0>]"
      ]
     },
     "execution_count": 43,
     "metadata": {},
     "output_type": "execute_result"
    },
    {
     "data": {
      "image/png": "[encoded data removed]",
      "text/plain": [
       "<Figure size 432x288 with 1 Axes>"
      ]
     },
     "metadata": {
      "needs_background": "light"
     },
     "output_type": "display_data"
    }
   ],
   "source": [
    "plt.plot(J_history)"
   ]
  },
  {
   "cell_type": "code",
   "execution_count": 44,
   "id": "8e601a00",
   "metadata": {},
   "outputs": [
    {
     "data": {
      "text/plain": [
       "[<matplotlib.lines.Line2D at 0x7fae5d47ebe0>]"
      ]
     },
     "execution_count": 44,
     "metadata": {},
     "output_type": "execute_result"
    },
    {
     "data": {
      "image/png": "[encoded data removed]",
      "text/plain": [
       "<Figure size 432x288 with 1 Axes>"
      ]
     },
     "metadata": {
      "needs_background": "light"
     },
     "output_type": "display_data"
    }
   ],
   "source": [
    "yprednorm = Xnorm.dot(theta)\n",
    "\n",
    "ypred = yprednorm*(maxy-miny) + miny\n",
    "plt.plot(y[sortidx,0],'o')\n",
    "plt.plot(ypred[sortidx,0],'--')"
   ]
  }
 ],
 "metadata": {
  "kernelspec": {
   "display_name": "Python 3",
   "language": "python",
   "name": "python3"
  },
  "language_info": {
   "codemirror_mode": {
    "name": "ipython",
    "version": 3
   },
   "file_extension": ".py",
   "mimetype": "text/x-python",
   "name": "python",
   "nbconvert_exporter": "python",
   "pygments_lexer": "ipython3",
   "version": "3.8.8"
  }
 },
 "nbformat": 4,
 "nbformat_minor": 5
}
