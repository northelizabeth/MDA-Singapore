{
 "cells": [
  {
   "cell_type": "code",
   "execution_count": 103,
   "id": "2ec1fbd8",
   "metadata": {},
   "outputs": [],
   "source": [
    "from datetime import datetime\n",
    "import numpy as np\n",
    "import pandas as pd\n",
    "import matplotlib.pyplot as plt"
   ]
  },
  {
   "cell_type": "code",
   "execution_count": 104,
   "id": "bd959270",
   "metadata": {},
   "outputs": [
    {
     "data": {
      "text/html": [
       "<div>\n",
       "<style scoped>\n",
       "    .dataframe tbody tr th:only-of-type {\n",
       "        vertical-align: middle;\n",
       "    }\n",
       "\n",
       "    .dataframe tbody tr th {\n",
       "        vertical-align: top;\n",
       "    }\n",
       "\n",
       "    .dataframe thead th {\n",
       "        text-align: right;\n",
       "    }\n",
       "</style>\n",
       "<table border=\"1\" class=\"dataframe\">\n",
       "  <thead>\n",
       "    <tr style=\"text-align: right;\">\n",
       "      <th></th>\n",
       "      <th>Date</th>\n",
       "      <th>Country</th>\n",
       "      <th>NumDay</th>\n",
       "      <th>LP</th>\n",
       "      <th>GDP</th>\n",
       "    </tr>\n",
       "  </thead>\n",
       "  <tbody>\n",
       "    <tr>\n",
       "      <th>0</th>\n",
       "      <td>1996-06-30</td>\n",
       "      <td>DE</td>\n",
       "      <td>13</td>\n",
       "      <td>87.9</td>\n",
       "      <td>77.663</td>\n",
       "    </tr>\n",
       "    <tr>\n",
       "      <th>1</th>\n",
       "      <td>1996-09-30</td>\n",
       "      <td>DE</td>\n",
       "      <td>8</td>\n",
       "      <td>88.3</td>\n",
       "      <td>77.934</td>\n",
       "    </tr>\n",
       "    <tr>\n",
       "      <th>2</th>\n",
       "      <td>1997-06-30</td>\n",
       "      <td>DE</td>\n",
       "      <td>0</td>\n",
       "      <td>89.7</td>\n",
       "      <td>79.098</td>\n",
       "    </tr>\n",
       "    <tr>\n",
       "      <th>3</th>\n",
       "      <td>1997-09-30</td>\n",
       "      <td>DE</td>\n",
       "      <td>19</td>\n",
       "      <td>89.9</td>\n",
       "      <td>79.368</td>\n",
       "    </tr>\n",
       "    <tr>\n",
       "      <th>4</th>\n",
       "      <td>1998-06-30</td>\n",
       "      <td>DE</td>\n",
       "      <td>8</td>\n",
       "      <td>90.3</td>\n",
       "      <td>80.354</td>\n",
       "    </tr>\n",
       "    <tr>\n",
       "      <th>...</th>\n",
       "      <td>...</td>\n",
       "      <td>...</td>\n",
       "      <td>...</td>\n",
       "      <td>...</td>\n",
       "      <td>...</td>\n",
       "    </tr>\n",
       "    <tr>\n",
       "      <th>139</th>\n",
       "      <td>2017-09-30</td>\n",
       "      <td>NL</td>\n",
       "      <td>16</td>\n",
       "      <td>101.3</td>\n",
       "      <td>105.622</td>\n",
       "    </tr>\n",
       "    <tr>\n",
       "      <th>140</th>\n",
       "      <td>2018-06-30</td>\n",
       "      <td>NL</td>\n",
       "      <td>22</td>\n",
       "      <td>101.1</td>\n",
       "      <td>107.590</td>\n",
       "    </tr>\n",
       "    <tr>\n",
       "      <th>141</th>\n",
       "      <td>2018-09-30</td>\n",
       "      <td>NL</td>\n",
       "      <td>41</td>\n",
       "      <td>100.7</td>\n",
       "      <td>107.830</td>\n",
       "    </tr>\n",
       "    <tr>\n",
       "      <th>142</th>\n",
       "      <td>2019-06-30</td>\n",
       "      <td>NL</td>\n",
       "      <td>14</td>\n",
       "      <td>100.7</td>\n",
       "      <td>109.203</td>\n",
       "    </tr>\n",
       "    <tr>\n",
       "      <th>143</th>\n",
       "      <td>2019-09-30</td>\n",
       "      <td>NL</td>\n",
       "      <td>37</td>\n",
       "      <td>100.8</td>\n",
       "      <td>109.569</td>\n",
       "    </tr>\n",
       "  </tbody>\n",
       "</table>\n",
       "<p>144 rows × 5 columns</p>\n",
       "</div>"
      ],
      "text/plain": [
       "          Date Country  NumDay     LP      GDP\n",
       "0   1996-06-30      DE      13   87.9   77.663\n",
       "1   1996-09-30      DE       8   88.3   77.934\n",
       "2   1997-06-30      DE       0   89.7   79.098\n",
       "3   1997-09-30      DE      19   89.9   79.368\n",
       "4   1998-06-30      DE       8   90.3   80.354\n",
       "..         ...     ...     ...    ...      ...\n",
       "139 2017-09-30      NL      16  101.3  105.622\n",
       "140 2018-06-30      NL      22  101.1  107.590\n",
       "141 2018-09-30      NL      41  100.7  107.830\n",
       "142 2019-06-30      NL      14  100.7  109.203\n",
       "143 2019-09-30      NL      37  100.8  109.569\n",
       "\n",
       "[144 rows x 5 columns]"
      ]
     },
     "execution_count": 104,
     "metadata": {},
     "output_type": "execute_result"
    }
   ],
   "source": [
    "df = pd.read_excel(\"/Users/zhengxin/Downloads/NumDay_quarter.xlsx\")\n",
    "df"
   ]
  },
  {
   "cell_type": "code",
   "execution_count": 105,
   "id": "1b71f9f7",
   "metadata": {},
   "outputs": [
    {
     "name": "stdout",
     "output_type": "stream",
     "text": [
      "<class 'pandas.core.frame.DataFrame'>\n",
      "RangeIndex: 144 entries, 0 to 143\n",
      "Data columns (total 7 columns):\n",
      " #   Column   Non-Null Count  Dtype  \n",
      "---  ------   --------------  -----  \n",
      " 0   Date     144 non-null    object \n",
      " 1   Country  144 non-null    object \n",
      " 2   NumDay   144 non-null    int64  \n",
      " 3   LP       144 non-null    float64\n",
      " 4   GDP      144 non-null    float64\n",
      " 5   Year     144 non-null    int64  \n",
      " 6   Quarter  144 non-null    int64  \n",
      "dtypes: float64(2), int64(3), object(2)\n",
      "memory usage: 8.0+ KB\n",
      "None\n"
     ]
    },
    {
     "data": {
      "text/html": [
       "<div>\n",
       "<style scoped>\n",
       "    .dataframe tbody tr th:only-of-type {\n",
       "        vertical-align: middle;\n",
       "    }\n",
       "\n",
       "    .dataframe tbody tr th {\n",
       "        vertical-align: top;\n",
       "    }\n",
       "\n",
       "    .dataframe thead th {\n",
       "        text-align: right;\n",
       "    }\n",
       "</style>\n",
       "<table border=\"1\" class=\"dataframe\">\n",
       "  <thead>\n",
       "    <tr style=\"text-align: right;\">\n",
       "      <th></th>\n",
       "      <th>Date</th>\n",
       "      <th>Country</th>\n",
       "      <th>NumDay</th>\n",
       "      <th>LP</th>\n",
       "      <th>GDP</th>\n",
       "      <th>Year</th>\n",
       "      <th>Quarter</th>\n",
       "    </tr>\n",
       "  </thead>\n",
       "  <tbody>\n",
       "    <tr>\n",
       "      <th>0</th>\n",
       "      <td>30.06.1996</td>\n",
       "      <td>DE</td>\n",
       "      <td>13</td>\n",
       "      <td>87.9</td>\n",
       "      <td>77.663</td>\n",
       "      <td>1996</td>\n",
       "      <td>2</td>\n",
       "    </tr>\n",
       "    <tr>\n",
       "      <th>1</th>\n",
       "      <td>30.09.1996</td>\n",
       "      <td>DE</td>\n",
       "      <td>8</td>\n",
       "      <td>88.3</td>\n",
       "      <td>77.934</td>\n",
       "      <td>1996</td>\n",
       "      <td>3</td>\n",
       "    </tr>\n",
       "    <tr>\n",
       "      <th>2</th>\n",
       "      <td>30.06.1997</td>\n",
       "      <td>DE</td>\n",
       "      <td>0</td>\n",
       "      <td>89.7</td>\n",
       "      <td>79.098</td>\n",
       "      <td>1997</td>\n",
       "      <td>2</td>\n",
       "    </tr>\n",
       "    <tr>\n",
       "      <th>3</th>\n",
       "      <td>30.09.1997</td>\n",
       "      <td>DE</td>\n",
       "      <td>19</td>\n",
       "      <td>89.9</td>\n",
       "      <td>79.368</td>\n",
       "      <td>1997</td>\n",
       "      <td>3</td>\n",
       "    </tr>\n",
       "    <tr>\n",
       "      <th>4</th>\n",
       "      <td>30.06.1998</td>\n",
       "      <td>DE</td>\n",
       "      <td>8</td>\n",
       "      <td>90.3</td>\n",
       "      <td>80.354</td>\n",
       "      <td>1998</td>\n",
       "      <td>2</td>\n",
       "    </tr>\n",
       "    <tr>\n",
       "      <th>...</th>\n",
       "      <td>...</td>\n",
       "      <td>...</td>\n",
       "      <td>...</td>\n",
       "      <td>...</td>\n",
       "      <td>...</td>\n",
       "      <td>...</td>\n",
       "      <td>...</td>\n",
       "    </tr>\n",
       "    <tr>\n",
       "      <th>139</th>\n",
       "      <td>30.09.2017</td>\n",
       "      <td>NL</td>\n",
       "      <td>16</td>\n",
       "      <td>101.3</td>\n",
       "      <td>105.622</td>\n",
       "      <td>2017</td>\n",
       "      <td>3</td>\n",
       "    </tr>\n",
       "    <tr>\n",
       "      <th>140</th>\n",
       "      <td>30.06.2018</td>\n",
       "      <td>NL</td>\n",
       "      <td>22</td>\n",
       "      <td>101.1</td>\n",
       "      <td>107.590</td>\n",
       "      <td>2018</td>\n",
       "      <td>2</td>\n",
       "    </tr>\n",
       "    <tr>\n",
       "      <th>141</th>\n",
       "      <td>30.09.2018</td>\n",
       "      <td>NL</td>\n",
       "      <td>41</td>\n",
       "      <td>100.7</td>\n",
       "      <td>107.830</td>\n",
       "      <td>2018</td>\n",
       "      <td>3</td>\n",
       "    </tr>\n",
       "    <tr>\n",
       "      <th>142</th>\n",
       "      <td>30.06.2019</td>\n",
       "      <td>NL</td>\n",
       "      <td>14</td>\n",
       "      <td>100.7</td>\n",
       "      <td>109.203</td>\n",
       "      <td>2019</td>\n",
       "      <td>2</td>\n",
       "    </tr>\n",
       "    <tr>\n",
       "      <th>143</th>\n",
       "      <td>30.09.2019</td>\n",
       "      <td>NL</td>\n",
       "      <td>37</td>\n",
       "      <td>100.8</td>\n",
       "      <td>109.569</td>\n",
       "      <td>2019</td>\n",
       "      <td>3</td>\n",
       "    </tr>\n",
       "  </tbody>\n",
       "</table>\n",
       "<p>144 rows × 7 columns</p>\n",
       "</div>"
      ],
      "text/plain": [
       "           Date Country  NumDay     LP      GDP  Year  Quarter\n",
       "0    30.06.1996      DE      13   87.9   77.663  1996        2\n",
       "1    30.09.1996      DE       8   88.3   77.934  1996        3\n",
       "2    30.06.1997      DE       0   89.7   79.098  1997        2\n",
       "3    30.09.1997      DE      19   89.9   79.368  1997        3\n",
       "4    30.06.1998      DE       8   90.3   80.354  1998        2\n",
       "..          ...     ...     ...    ...      ...   ...      ...\n",
       "139  30.09.2017      NL      16  101.3  105.622  2017        3\n",
       "140  30.06.2018      NL      22  101.1  107.590  2018        2\n",
       "141  30.09.2018      NL      41  100.7  107.830  2018        3\n",
       "142  30.06.2019      NL      14  100.7  109.203  2019        2\n",
       "143  30.09.2019      NL      37  100.8  109.569  2019        3\n",
       "\n",
       "[144 rows x 7 columns]"
      ]
     },
     "execution_count": 105,
     "metadata": {},
     "output_type": "execute_result"
    }
   ],
   "source": [
    "df['Date'] = pd.to_datetime(df['Date'])\n",
    "df['Date'] = df['Date'].dt.strftime('%d.%m.%Y')\n",
    "df['Year'] = pd.DatetimeIndex(df['Date']).year\n",
    "df['Quarter'] = pd.DatetimeIndex(df['Date']).quarter\n",
    "print(df.info())\n",
    "df"
   ]
  },
  {
   "cell_type": "code",
   "execution_count": 106,
   "id": "91dbbe38",
   "metadata": {},
   "outputs": [
    {
     "data": {
      "text/html": [
       "<div>\n",
       "<style scoped>\n",
       "    .dataframe tbody tr th:only-of-type {\n",
       "        vertical-align: middle;\n",
       "    }\n",
       "\n",
       "    .dataframe tbody tr th {\n",
       "        vertical-align: top;\n",
       "    }\n",
       "\n",
       "    .dataframe thead th {\n",
       "        text-align: right;\n",
       "    }\n",
       "</style>\n",
       "<table border=\"1\" class=\"dataframe\">\n",
       "  <thead>\n",
       "    <tr style=\"text-align: right;\">\n",
       "      <th></th>\n",
       "      <th>Date</th>\n",
       "      <th>Country</th>\n",
       "      <th>NumDay</th>\n",
       "      <th>LP</th>\n",
       "      <th>GDP</th>\n",
       "      <th>Year</th>\n",
       "      <th>Quarter</th>\n",
       "      <th>Country_DE</th>\n",
       "      <th>Country_ES</th>\n",
       "      <th>Country_NL</th>\n",
       "    </tr>\n",
       "  </thead>\n",
       "  <tbody>\n",
       "    <tr>\n",
       "      <th>0</th>\n",
       "      <td>30.06.1996</td>\n",
       "      <td>DE</td>\n",
       "      <td>13</td>\n",
       "      <td>87.9</td>\n",
       "      <td>77.663</td>\n",
       "      <td>1996</td>\n",
       "      <td>2</td>\n",
       "      <td>1</td>\n",
       "      <td>0</td>\n",
       "      <td>0</td>\n",
       "    </tr>\n",
       "    <tr>\n",
       "      <th>1</th>\n",
       "      <td>30.09.1996</td>\n",
       "      <td>DE</td>\n",
       "      <td>8</td>\n",
       "      <td>88.3</td>\n",
       "      <td>77.934</td>\n",
       "      <td>1996</td>\n",
       "      <td>3</td>\n",
       "      <td>1</td>\n",
       "      <td>0</td>\n",
       "      <td>0</td>\n",
       "    </tr>\n",
       "    <tr>\n",
       "      <th>2</th>\n",
       "      <td>30.06.1997</td>\n",
       "      <td>DE</td>\n",
       "      <td>0</td>\n",
       "      <td>89.7</td>\n",
       "      <td>79.098</td>\n",
       "      <td>1997</td>\n",
       "      <td>2</td>\n",
       "      <td>1</td>\n",
       "      <td>0</td>\n",
       "      <td>0</td>\n",
       "    </tr>\n",
       "    <tr>\n",
       "      <th>3</th>\n",
       "      <td>30.09.1997</td>\n",
       "      <td>DE</td>\n",
       "      <td>19</td>\n",
       "      <td>89.9</td>\n",
       "      <td>79.368</td>\n",
       "      <td>1997</td>\n",
       "      <td>3</td>\n",
       "      <td>1</td>\n",
       "      <td>0</td>\n",
       "      <td>0</td>\n",
       "    </tr>\n",
       "    <tr>\n",
       "      <th>4</th>\n",
       "      <td>30.06.1998</td>\n",
       "      <td>DE</td>\n",
       "      <td>8</td>\n",
       "      <td>90.3</td>\n",
       "      <td>80.354</td>\n",
       "      <td>1998</td>\n",
       "      <td>2</td>\n",
       "      <td>1</td>\n",
       "      <td>0</td>\n",
       "      <td>0</td>\n",
       "    </tr>\n",
       "    <tr>\n",
       "      <th>...</th>\n",
       "      <td>...</td>\n",
       "      <td>...</td>\n",
       "      <td>...</td>\n",
       "      <td>...</td>\n",
       "      <td>...</td>\n",
       "      <td>...</td>\n",
       "      <td>...</td>\n",
       "      <td>...</td>\n",
       "      <td>...</td>\n",
       "      <td>...</td>\n",
       "    </tr>\n",
       "    <tr>\n",
       "      <th>139</th>\n",
       "      <td>30.09.2017</td>\n",
       "      <td>NL</td>\n",
       "      <td>16</td>\n",
       "      <td>101.3</td>\n",
       "      <td>105.622</td>\n",
       "      <td>2017</td>\n",
       "      <td>3</td>\n",
       "      <td>0</td>\n",
       "      <td>0</td>\n",
       "      <td>1</td>\n",
       "    </tr>\n",
       "    <tr>\n",
       "      <th>140</th>\n",
       "      <td>30.06.2018</td>\n",
       "      <td>NL</td>\n",
       "      <td>22</td>\n",
       "      <td>101.1</td>\n",
       "      <td>107.590</td>\n",
       "      <td>2018</td>\n",
       "      <td>2</td>\n",
       "      <td>0</td>\n",
       "      <td>0</td>\n",
       "      <td>1</td>\n",
       "    </tr>\n",
       "    <tr>\n",
       "      <th>141</th>\n",
       "      <td>30.09.2018</td>\n",
       "      <td>NL</td>\n",
       "      <td>41</td>\n",
       "      <td>100.7</td>\n",
       "      <td>107.830</td>\n",
       "      <td>2018</td>\n",
       "      <td>3</td>\n",
       "      <td>0</td>\n",
       "      <td>0</td>\n",
       "      <td>1</td>\n",
       "    </tr>\n",
       "    <tr>\n",
       "      <th>142</th>\n",
       "      <td>30.06.2019</td>\n",
       "      <td>NL</td>\n",
       "      <td>14</td>\n",
       "      <td>100.7</td>\n",
       "      <td>109.203</td>\n",
       "      <td>2019</td>\n",
       "      <td>2</td>\n",
       "      <td>0</td>\n",
       "      <td>0</td>\n",
       "      <td>1</td>\n",
       "    </tr>\n",
       "    <tr>\n",
       "      <th>143</th>\n",
       "      <td>30.09.2019</td>\n",
       "      <td>NL</td>\n",
       "      <td>37</td>\n",
       "      <td>100.8</td>\n",
       "      <td>109.569</td>\n",
       "      <td>2019</td>\n",
       "      <td>3</td>\n",
       "      <td>0</td>\n",
       "      <td>0</td>\n",
       "      <td>1</td>\n",
       "    </tr>\n",
       "  </tbody>\n",
       "</table>\n",
       "<p>144 rows × 10 columns</p>\n",
       "</div>"
      ],
      "text/plain": [
       "           Date Country  NumDay     LP      GDP  Year  Quarter  Country_DE  \\\n",
       "0    30.06.1996      DE      13   87.9   77.663  1996        2           1   \n",
       "1    30.09.1996      DE       8   88.3   77.934  1996        3           1   \n",
       "2    30.06.1997      DE       0   89.7   79.098  1997        2           1   \n",
       "3    30.09.1997      DE      19   89.9   79.368  1997        3           1   \n",
       "4    30.06.1998      DE       8   90.3   80.354  1998        2           1   \n",
       "..          ...     ...     ...    ...      ...   ...      ...         ...   \n",
       "139  30.09.2017      NL      16  101.3  105.622  2017        3           0   \n",
       "140  30.06.2018      NL      22  101.1  107.590  2018        2           0   \n",
       "141  30.09.2018      NL      41  100.7  107.830  2018        3           0   \n",
       "142  30.06.2019      NL      14  100.7  109.203  2019        2           0   \n",
       "143  30.09.2019      NL      37  100.8  109.569  2019        3           0   \n",
       "\n",
       "     Country_ES  Country_NL  \n",
       "0             0           0  \n",
       "1             0           0  \n",
       "2             0           0  \n",
       "3             0           0  \n",
       "4             0           0  \n",
       "..          ...         ...  \n",
       "139           0           1  \n",
       "140           0           1  \n",
       "141           0           1  \n",
       "142           0           1  \n",
       "143           0           1  \n",
       "\n",
       "[144 rows x 10 columns]"
      ]
     },
     "execution_count": 106,
     "metadata": {},
     "output_type": "execute_result"
    }
   ],
   "source": [
    "# dummy encoding\n",
    "df['Country_'] = df['Country']\n",
    "df = pd.get_dummies(df, columns=['Country_'], drop_first=False, prefix='Country')\n",
    "df"
   ]
  },
  {
   "cell_type": "markdown",
   "id": "52ca09c8",
   "metadata": {},
   "source": [
    "## Time series"
   ]
  },
  {
   "cell_type": "code",
   "execution_count": 62,
   "id": "1710d9b1",
   "metadata": {},
   "outputs": [
    {
     "data": {
      "image/png": "[encoded data removed]",
      "text/plain": [
       "<Figure size 3600x576 with 1 Axes>"
      ]
     },
     "metadata": {
      "needs_background": "light"
     },
     "output_type": "display_data"
    }
   ],
   "source": [
    "plt.figure(figsize=(50, 8))\n",
    "plt.plot(df.loc[df['Country'] == 'DE']['Date'], df.loc[df['Country'] == 'DE']['LP'], \n",
    "         'b-', label = 'DE')\n",
    "plt.plot(df.loc[df['Country'] == 'NL']['Date'], df.loc[df['Country'] == 'NL']['LP'], \n",
    "         'r-', label = 'NL')\n",
    "plt.plot(df.loc[df['Country'] == 'ES']['Date'], df.loc[df['Country'] == 'ES']['LP'], \n",
    "         'g-', label = 'ES')\n",
    "plt.xlabel('Date'); \n",
    "plt.ylabel('LP'); \n",
    "plt.legend();"
   ]
  },
  {
   "cell_type": "code",
   "execution_count": 63,
   "id": "c25fa5f7",
   "metadata": {},
   "outputs": [
    {
     "data": {
      "image/png": "[encoded data removed]",
      "text/plain": [
       "<Figure size 3600x576 with 1 Axes>"
      ]
     },
     "metadata": {
      "needs_background": "light"
     },
     "output_type": "display_data"
    }
   ],
   "source": [
    "plt.figure(figsize=(50, 8))\n",
    "plt.plot(df.loc[df['Country'] == 'DE']['Date'], df.loc[df['Country'] == 'DE']['GDP'], \n",
    "         'b-', label = 'DE')\n",
    "plt.plot(df.loc[df['Country'] == 'NL']['Date'], df.loc[df['Country'] == 'NL']['GDP'], \n",
    "         'r-', label = 'NL')\n",
    "plt.plot(df.loc[df['Country'] == 'ES']['Date'], df.loc[df['Country'] == 'ES']['GDP'], \n",
    "         'g-', label = 'ES')\n",
    "plt.xlabel('Date'); \n",
    "plt.ylabel('GDP'); \n",
    "plt.legend();"
   ]
  },
  {
   "cell_type": "markdown",
   "id": "3b3b3edc",
   "metadata": {},
   "source": [
    "## Machine learning models"
   ]
  },
  {
   "cell_type": "code",
   "execution_count": 64,
   "id": "378c7b00",
   "metadata": {},
   "outputs": [],
   "source": [
    "from sklearn import model_selection\n",
    "from sklearn.tree import DecisionTreeRegressor\n",
    "from sklearn.ensemble import RandomForestRegressor\n",
    "from sklearn.metrics import r2_score\n",
    "from sklearn.metrics import mean_squared_error\n",
    "from math import sqrt"
   ]
  },
  {
   "cell_type": "code",
   "execution_count": 67,
   "id": "d4c3f106",
   "metadata": {},
   "outputs": [],
   "source": [
    "from sklearn.model_selection import train_test_split\n",
    "target_column_test = ['LP'] \n",
    "predictors_test = ['NumDay', 'Year', 'Quarter',\n",
    "                  'Country_DE', 'Country_ES', 'Country_NL']\n",
    "X_train, X_test, y_train, y_test = train_test_split(\n",
    "    df[predictors_test], df[target_column_test], test_size=0.20, random_state=0)"
   ]
  },
  {
   "cell_type": "markdown",
   "id": "d25c5125",
   "metadata": {},
   "source": [
    "### Decision trees"
   ]
  },
  {
   "cell_type": "code",
   "execution_count": 73,
   "id": "2bad02e3",
   "metadata": {},
   "outputs": [
    {
     "name": "stdout",
     "output_type": "stream",
     "text": [
      "{'max_depth': 4, 'min_samples_split': 10}\n",
      "1.5071758969538642\n"
     ]
    }
   ],
   "source": [
    "# 5-fold cross-validation\n",
    "from sklearn.model_selection import GridSearchCV\n",
    "\n",
    "model = DecisionTreeRegressor()\n",
    "gs = GridSearchCV(model,\n",
    "                  param_grid = {'max_depth': range(1, 11),\n",
    "                                'min_samples_split': range(10, 60, 10)},\n",
    "                  cv=5,\n",
    "                  n_jobs=1,\n",
    "                  scoring='neg_mean_squared_error')\n",
    "\n",
    "gs.fit(X_train, y_train)\n",
    "\n",
    "print(gs.best_params_)\n",
    "print(-gs.best_score_)"
   ]
  },
  {
   "cell_type": "code",
   "execution_count": 74,
   "id": "6790a850",
   "metadata": {},
   "outputs": [
    {
     "data": {
      "text/plain": [
       "DecisionTreeRegressor(max_depth=4, min_samples_split=10)"
      ]
     },
     "execution_count": 74,
     "metadata": {},
     "output_type": "execute_result"
    }
   ],
   "source": [
    "new_model = DecisionTreeRegressor(max_depth=4,\n",
    "                                  min_samples_split=10)\n",
    "#or new_model = gs.best_estimator_\n",
    "new_model.fit(X_train, y_train)"
   ]
  },
  {
   "cell_type": "code",
   "execution_count": 75,
   "id": "dcfebae2",
   "metadata": {},
   "outputs": [
    {
     "name": "stdout",
     "output_type": "stream",
     "text": [
      "1.0888339987138207\n",
      "0.9455270055905467\n"
     ]
    }
   ],
   "source": [
    "pred_train_tree= new_model.predict(X_train)\n",
    "print(np.sqrt(mean_squared_error(y_train,pred_train_tree)))\n",
    "print(r2_score(y_train, pred_train_tree))"
   ]
  },
  {
   "cell_type": "code",
   "execution_count": 76,
   "id": "6201ef04",
   "metadata": {},
   "outputs": [
    {
     "name": "stdout",
     "output_type": "stream",
     "text": [
      "1.7240109571030644\n",
      "0.8953970522247383\n"
     ]
    }
   ],
   "source": [
    "pred_test_tree= new_model.predict(X_test)\n",
    "print(np.sqrt(mean_squared_error(y_test,pred_test_tree))) \n",
    "print(r2_score(y_test, pred_test_tree))"
   ]
  },
  {
   "cell_type": "markdown",
   "id": "2aada012",
   "metadata": {},
   "source": [
    "### Random Forest"
   ]
  },
  {
   "cell_type": "code",
   "execution_count": 84,
   "id": "992d20a9",
   "metadata": {},
   "outputs": [
    {
     "name": "stdout",
     "output_type": "stream",
     "text": [
      "{'max_depth': 5, 'min_samples_split': 10}\n",
      "1.7644146584030955\n"
     ]
    }
   ],
   "source": [
    "# 5-fold cross-validation\n",
    "from sklearn.model_selection import GridSearchCV\n",
    "\n",
    "model = RandomForestRegressor()\n",
    "gs = GridSearchCV(model,\n",
    "                  param_grid = {'max_depth': range(1, 11),\n",
    "                                'min_samples_split': range(10, 60, 10)},\n",
    "                  cv=5,\n",
    "                  n_jobs=1,\n",
    "                  scoring='neg_mean_squared_error')\n",
    "\n",
    "gs.fit(X_train, y_train.values.ravel())\n",
    "\n",
    "print(gs.best_params_)\n",
    "print(-gs.best_score_)"
   ]
  },
  {
   "cell_type": "code",
   "execution_count": 86,
   "id": "71d855c8",
   "metadata": {},
   "outputs": [
    {
     "name": "stdout",
     "output_type": "stream",
     "text": [
      "0.8390139788229014\n",
      "0.9676558087518549\n",
      "1.5351444957468818\n",
      "0.9170603115704865\n"
     ]
    }
   ],
   "source": [
    "new_model = RandomForestRegressor(max_depth=5,\n",
    "                                  min_samples_split=10)\n",
    "#or new_model = gs.best_estimator_\n",
    "new_model.fit(X_train, y_train.values.ravel())\n",
    "pred_train_tree= new_model.predict(X_train)\n",
    "print(np.sqrt(mean_squared_error(y_train,pred_train_tree)))\n",
    "print(r2_score(y_train, pred_train_tree))\n",
    "pred_test_tree= new_model.predict(X_test)\n",
    "print(np.sqrt(mean_squared_error(y_test,pred_test_tree))) \n",
    "print(r2_score(y_test, pred_test_tree))"
   ]
  },
  {
   "cell_type": "markdown",
   "id": "da7567f3",
   "metadata": {},
   "source": [
    "### Linear Mixed-Effects Models Using lme4"
   ]
  },
  {
   "cell_type": "code",
   "execution_count": 107,
   "id": "e34a6035",
   "metadata": {},
   "outputs": [
    {
     "name": "stdout",
     "output_type": "stream",
     "text": [
      "boundary (singular) fit: see ?isSingular \n",
      "\n",
      "Formula: LP~Year+Quarter+NumDay+(Year+Quarter|Country)\n",
      "\n",
      "Family: gaussian\t Inference: parametric\n",
      "\n",
      "Number of observations: 144\t Groups: {'Country': 3.0}\n",
      "\n",
      "Log-likelihood: -292.551 \t AIC: 585.102\n",
      "\n",
      "Random effects:\n",
      "\n",
      "                 Name    Var    Std\n",
      "Country   (Intercept)  2.980  1.726\n",
      "Country          Year  0.000  0.000\n",
      "Country       Quarter  0.254  0.504\n",
      "Residual               2.974  1.725\n",
      "\n",
      "                 IV1      IV2   Corr\n",
      "Country  (Intercept)     Year -1.000\n",
      "Country  (Intercept)  Quarter -0.002\n",
      "Country         Year  Quarter  0.002\n",
      "\n",
      "Fixed effects:\n",
      "\n"
     ]
    },
    {
     "data": {
      "text/html": [
       "<div>\n",
       "<style scoped>\n",
       "    .dataframe tbody tr th:only-of-type {\n",
       "        vertical-align: middle;\n",
       "    }\n",
       "\n",
       "    .dataframe tbody tr th {\n",
       "        vertical-align: top;\n",
       "    }\n",
       "\n",
       "    .dataframe thead th {\n",
       "        text-align: right;\n",
       "    }\n",
       "</style>\n",
       "<table border=\"1\" class=\"dataframe\">\n",
       "  <thead>\n",
       "    <tr style=\"text-align: right;\">\n",
       "      <th></th>\n",
       "      <th>Estimate</th>\n",
       "      <th>2.5_ci</th>\n",
       "      <th>97.5_ci</th>\n",
       "      <th>SE</th>\n",
       "      <th>DF</th>\n",
       "      <th>T-stat</th>\n",
       "      <th>P-val</th>\n",
       "      <th>Sig</th>\n",
       "    </tr>\n",
       "  </thead>\n",
       "  <tbody>\n",
       "    <tr>\n",
       "      <th>(Intercept)</th>\n",
       "      <td>-1186.240</td>\n",
       "      <td>-1270.704</td>\n",
       "      <td>-1101.776</td>\n",
       "      <td>43.095</td>\n",
       "      <td>136.151</td>\n",
       "      <td>-27.526</td>\n",
       "      <td>0.000</td>\n",
       "      <td>***</td>\n",
       "    </tr>\n",
       "    <tr>\n",
       "      <th>Year</th>\n",
       "      <td>0.638</td>\n",
       "      <td>0.596</td>\n",
       "      <td>0.680</td>\n",
       "      <td>0.021</td>\n",
       "      <td>137.778</td>\n",
       "      <td>29.769</td>\n",
       "      <td>0.000</td>\n",
       "      <td>***</td>\n",
       "    </tr>\n",
       "    <tr>\n",
       "      <th>Quarter</th>\n",
       "      <td>0.312</td>\n",
       "      <td>-0.570</td>\n",
       "      <td>1.195</td>\n",
       "      <td>0.450</td>\n",
       "      <td>0.136</td>\n",
       "      <td>0.694</td>\n",
       "      <td>0.833</td>\n",
       "      <td></td>\n",
       "    </tr>\n",
       "    <tr>\n",
       "      <th>NumDay</th>\n",
       "      <td>-0.007</td>\n",
       "      <td>-0.029</td>\n",
       "      <td>0.016</td>\n",
       "      <td>0.011</td>\n",
       "      <td>134.598</td>\n",
       "      <td>-0.603</td>\n",
       "      <td>0.547</td>\n",
       "      <td></td>\n",
       "    </tr>\n",
       "  </tbody>\n",
       "</table>\n",
       "</div>"
      ],
      "text/plain": [
       "             Estimate    2.5_ci   97.5_ci      SE       DF  T-stat  P-val  Sig\n",
       "(Intercept) -1186.240 -1270.704 -1101.776  43.095  136.151 -27.526  0.000  ***\n",
       "Year            0.638     0.596     0.680   0.021  137.778  29.769  0.000  ***\n",
       "Quarter         0.312    -0.570     1.195   0.450    0.136   0.694  0.833     \n",
       "NumDay         -0.007    -0.029     0.016   0.011  134.598  -0.603  0.547     "
      ]
     },
     "metadata": {},
     "output_type": "display_data"
    },
    {
     "name": "stdout",
     "output_type": "stream",
     "text": [
      "SS Type III Analysis of Variance Table with Satterthwaite approximated degrees of freedom:\n",
      "(NOTE: Using original model contrasts, orthogonality not guaranteed)\n"
     ]
    },
    {
     "data": {
      "text/html": [
       "<div>\n",
       "<style scoped>\n",
       "    .dataframe tbody tr th:only-of-type {\n",
       "        vertical-align: middle;\n",
       "    }\n",
       "\n",
       "    .dataframe tbody tr th {\n",
       "        vertical-align: top;\n",
       "    }\n",
       "\n",
       "    .dataframe thead th {\n",
       "        text-align: right;\n",
       "    }\n",
       "</style>\n",
       "<table border=\"1\" class=\"dataframe\">\n",
       "  <thead>\n",
       "    <tr style=\"text-align: right;\">\n",
       "      <th></th>\n",
       "      <th>SS</th>\n",
       "      <th>MS</th>\n",
       "      <th>NumDF</th>\n",
       "      <th>DenomDF</th>\n",
       "      <th>F-stat</th>\n",
       "      <th>P-val</th>\n",
       "      <th>Sig</th>\n",
       "    </tr>\n",
       "  </thead>\n",
       "  <tbody>\n",
       "    <tr>\n",
       "      <th>0</th>\n",
       "      <td>2635.584988</td>\n",
       "      <td>2635.584988</td>\n",
       "      <td>1</td>\n",
       "      <td>137.778001</td>\n",
       "      <td>886.208165</td>\n",
       "      <td>7.116598e-62</td>\n",
       "      <td>***</td>\n",
       "    </tr>\n",
       "    <tr>\n",
       "      <th>1</th>\n",
       "      <td>1.430536</td>\n",
       "      <td>1.430536</td>\n",
       "      <td>1</td>\n",
       "      <td>0.136342</td>\n",
       "      <td>0.481014</td>\n",
       "      <td>8.329367e-01</td>\n",
       "      <td></td>\n",
       "    </tr>\n",
       "    <tr>\n",
       "      <th>2</th>\n",
       "      <td>1.081690</td>\n",
       "      <td>1.081690</td>\n",
       "      <td>1</td>\n",
       "      <td>134.598308</td>\n",
       "      <td>0.363715</td>\n",
       "      <td>5.474649e-01</td>\n",
       "      <td></td>\n",
       "    </tr>\n",
       "  </tbody>\n",
       "</table>\n",
       "</div>"
      ],
      "text/plain": [
       "            SS           MS  NumDF     DenomDF      F-stat         P-val  Sig\n",
       "0  2635.584988  2635.584988      1  137.778001  886.208165  7.116598e-62  ***\n",
       "1     1.430536     1.430536      1    0.136342    0.481014  8.329367e-01     \n",
       "2     1.081690     1.081690      1  134.598308    0.363715  5.474649e-01     "
      ]
     },
     "metadata": {},
     "output_type": "display_data"
    }
   ],
   "source": [
    "# Install pymer4\n",
    "!pip install -q pymer4\n",
    "# load pymer4\n",
    "from pymer4.models import Lmer\n",
    "model = Lmer('LP ~ Year + Quarter + NumDay + (Year + Quarter|Country)', data=df)\n",
    "display(model.fit())\n",
    "# ANOVA results from fitted model\n",
    "display(model.anova())"
   ]
  },
  {
   "cell_type": "markdown",
   "id": "e9cf5a37",
   "metadata": {},
   "source": [
    "### regression (gradient descent)"
   ]
  },
  {
   "cell_type": "code",
   "execution_count": 126,
   "id": "cf127c24",
   "metadata": {},
   "outputs": [
    {
     "name": "stdout",
     "output_type": "stream",
     "text": [
      "Index(['Date', 'Country', 'NumDay', 'LP', 'GDP', 'Year', 'Quarter',\n",
      "       'Country_DE', 'Country_ES', 'Country_NL'],\n",
      "      dtype='object')\n"
     ]
    },
    {
     "data": {
      "text/plain": [
       "Date          False\n",
       "Country       False\n",
       "NumDay        False\n",
       "LP            False\n",
       "GDP           False\n",
       "Year          False\n",
       "Quarter       False\n",
       "Country_DE    False\n",
       "Country_ES    False\n",
       "Country_NL    False\n",
       "dtype: bool"
      ]
     },
     "execution_count": 126,
     "metadata": {},
     "output_type": "execute_result"
    }
   ],
   "source": [
    "print(df.columns)\n",
    "pd.isna(df).any()"
   ]
  },
  {
   "cell_type": "code",
   "execution_count": 129,
   "id": "dade8933",
   "metadata": {},
   "outputs": [
    {
     "name": "stdout",
     "output_type": "stream",
     "text": [
      "144\n"
     ]
    }
   ],
   "source": [
    "x = df[predictors_test].values\n",
    "y = df[target_column_test].values.reshape(-1,1)\n",
    "m = len(Y)\n",
    "print(m)"
   ]
  },
  {
   "cell_type": "code",
   "execution_count": 130,
   "id": "243f543d",
   "metadata": {},
   "outputs": [
    {
     "name": "stdout",
     "output_type": "stream",
     "text": [
      "Correlation between x1 and y = 0.19\n",
      "Correlation between x2 and y = 0.91\n",
      "Correlation between x3 and y = 0.02\n"
     ]
    }
   ],
   "source": [
    "from scipy.stats import pearsonr\n",
    "print(f'Correlation between x1 and y = {pearsonr(x[:,0],y[:,0])[0]:.2f}')\n",
    "print(f'Correlation between x2 and y = {pearsonr(x[:,1],y[:,0])[0]:.2f}')\n",
    "print(f'Correlation between x3 and y = {pearsonr(x[:,2],y[:,0])[0]:.2f}')\n",
    "# Correlation between year and LP = 0.91"
   ]
  },
  {
   "cell_type": "code",
   "execution_count": 131,
   "id": "d1545226",
   "metadata": {},
   "outputs": [
    {
     "data": {
      "text/plain": [
       "(144, 7)"
      ]
     },
     "execution_count": 131,
     "metadata": {},
     "output_type": "execute_result"
    }
   ],
   "source": [
    "# Add a bias to the input vector\n",
    "X = np.concatenate((np.ones((len(x),1)),x),axis=1)\n",
    "X.shape"
   ]
  },
  {
   "cell_type": "code",
   "execution_count": 132,
   "id": "a1a79ce2",
   "metadata": {},
   "outputs": [
    {
     "data": {
      "text/plain": [
       "array([[1.00000000e+00, 6.43883110e-03, 9.88608222e-01, 9.90589401e-04,\n",
       "        4.95294700e-04, 0.00000000e+00, 0.00000000e+00],\n",
       "       [1.00000000e+00, 3.96235760e-03, 9.88608222e-01, 1.48588410e-03,\n",
       "        4.95294700e-04, 0.00000000e+00, 0.00000000e+00],\n",
       "       [1.00000000e+00, 0.00000000e+00, 9.89103517e-01, 9.90589401e-04,\n",
       "        4.95294700e-04, 0.00000000e+00, 0.00000000e+00],\n",
       "       [1.00000000e+00, 9.41059931e-03, 9.89103517e-01, 1.48588410e-03,\n",
       "        4.95294700e-04, 0.00000000e+00, 0.00000000e+00],\n",
       "       [1.00000000e+00, 3.96235760e-03, 9.89598811e-01, 9.90589401e-04,\n",
       "        4.95294700e-04, 0.00000000e+00, 0.00000000e+00],\n",
       "       [1.00000000e+00, 8.42000991e-03, 9.89598811e-01, 1.48588410e-03,\n",
       "        4.95294700e-04, 0.00000000e+00, 0.00000000e+00],\n",
       "       [1.00000000e+00, 0.00000000e+00, 9.90094106e-01, 9.90589401e-04,\n",
       "        4.95294700e-04, 0.00000000e+00, 0.00000000e+00],\n",
       "       [1.00000000e+00, 1.78306092e-02, 9.90094106e-01, 1.48588410e-03,\n",
       "        4.95294700e-04, 0.00000000e+00, 0.00000000e+00],\n",
       "       [1.00000000e+00, 8.42000991e-03, 9.90589401e-01, 9.90589401e-04,\n",
       "        4.95294700e-04, 0.00000000e+00, 0.00000000e+00],\n",
       "       [1.00000000e+00, 0.00000000e+00, 9.90589401e-01, 1.48588410e-03,\n",
       "        4.95294700e-04, 0.00000000e+00, 0.00000000e+00]])"
      ]
     },
     "execution_count": 132,
     "metadata": {},
     "output_type": "execute_result"
    }
   ],
   "source": [
    "# data normalization\n",
    "Xnorm = X.copy()\n",
    "minx = np.min(X[:,1:])\n",
    "maxx = np.max(X[:,1:])\n",
    "Xnorm[:,1:] = (X[:,1:]-minx)/(maxx-minx)\n",
    "Xnorm[:10,:]"
   ]
  },
  {
   "cell_type": "code",
   "execution_count": 133,
   "id": "040ceac9",
   "metadata": {},
   "outputs": [
    {
     "data": {
      "text/plain": [
       "array([0.23316062, 0.25388601, 0.32642487, 0.33678756, 0.35751295,\n",
       "       0.35233161, 0.35233161, 0.3626943 , 0.41968912, 0.40932642])"
      ]
     },
     "execution_count": 133,
     "metadata": {},
     "output_type": "execute_result"
    }
   ],
   "source": [
    "ynorm = y.copy()\n",
    "maxy = np.max(y)\n",
    "miny = np.min(y)\n",
    "ynorm = (y-miny)/(maxy - miny) \n",
    "ynorm[:10,0]"
   ]
  },
  {
   "cell_type": "code",
   "execution_count": 134,
   "id": "e5877e16",
   "metadata": {},
   "outputs": [
    {
     "data": {
      "text/plain": [
       "[<matplotlib.lines.Line2D at 0x7f93bcc82c40>]"
      ]
     },
     "execution_count": 134,
     "metadata": {},
     "output_type": "execute_result"
    },
    {
     "data": {
      "image/png": "[encoded data removed]",
      "text/plain": [
       "<Figure size 432x288 with 1 Axes>"
      ]
     },
     "metadata": {
      "needs_background": "light"
     },
     "output_type": "display_data"
    }
   ],
   "source": [
    "# Initial estimate of parameters\n",
    "theta0 = np.zeros((X.shape[1],1))+0.4\n",
    "#theta0 = np.array([[0],[0.5],[2],[0.5]])\n",
    "\n",
    "ypred = Xnorm.dot(theta0)\n",
    "\n",
    "sortidx = np.argsort(ynorm[:,0]) # sort the values for better visualization\n",
    "plt.plot(ynorm[sortidx,0],'o')\n",
    "plt.plot(ypred[sortidx,0],'--')"
   ]
  },
  {
   "cell_type": "code",
   "execution_count": 136,
   "id": "e3218781",
   "metadata": {},
   "outputs": [
    {
     "data": {
      "text/plain": [
       "array([[2.04492907e-01],\n",
       "       [1.52270031e-03],\n",
       "       [2.02554561e-01],\n",
       "       [2.52363656e-04],\n",
       "       [2.24915133e-05],\n",
       "       [4.19925144e-05],\n",
       "       [3.68002253e-05]])"
      ]
     },
     "execution_count": 136,
     "metadata": {},
     "output_type": "execute_result"
    }
   ],
   "source": [
    "# calculate gradient\n",
    "def grad(theta):\n",
    "    dJ = 1/m*np.sum((Xnorm.dot(theta)-ynorm)*Xnorm,axis=0).reshape(-1,1)\n",
    "    return dJ\n",
    "grad(theta0)"
   ]
  },
  {
   "cell_type": "code",
   "execution_count": 137,
   "id": "7c0cece3",
   "metadata": {},
   "outputs": [
    {
     "data": {
      "text/plain": [
       "14.824883386088173"
      ]
     },
     "execution_count": 137,
     "metadata": {},
     "output_type": "execute_result"
    }
   ],
   "source": [
    "def cost(theta):\n",
    "    J = np.sum((Xnorm.dot(theta)-ynorm)**2,axis=0)[0]\n",
    "    return J\n",
    "cost(theta0)"
   ]
  },
  {
   "cell_type": "code",
   "execution_count": 138,
   "id": "bd014195",
   "metadata": {},
   "outputs": [],
   "source": [
    "def GD(theta0,learning_rate = 0.5,epochs=1000,TOL=1e-7):\n",
    "    \n",
    "    theta_history = [theta0]\n",
    "    J_history = [cost(theta0)]\n",
    "    \n",
    "    thetanew = theta0*10000\n",
    "    print(f'epoch \\t Cost(J) \\t')\n",
    "    for epoch in range(epochs):\n",
    "        if epoch%100 == 0:\n",
    "            print(f'{epoch:5d}\\t{J_history[-1]:7.4f}\\t')\n",
    "        dJ = grad(theta0)\n",
    "        J = cost(theta0)\n",
    "        \n",
    "        thetanew = theta0 - learning_rate*dJ\n",
    "        theta_history.append(thetanew)\n",
    "        J_history.append(J)\n",
    "        \n",
    "        if np.sum((thetanew - theta0)**2) < TOL:\n",
    "            print('Convergence achieved.')\n",
    "            break\n",
    "        theta0 = thetanew\n",
    "\n",
    "    return thetanew,theta_history,J_history"
   ]
  },
  {
   "cell_type": "code",
   "execution_count": 139,
   "id": "07f31ba7",
   "metadata": {},
   "outputs": [
    {
     "name": "stdout",
     "output_type": "stream",
     "text": [
      "epoch \t Cost(J) \t\n",
      "    0\t14.8249\t\n",
      "  100\t 8.8202\t\n",
      "  200\t 8.8144\t\n",
      "  300\t 8.8085\t\n",
      "  400\t 8.8027\t\n",
      "  500\t 8.7968\t\n",
      "  600\t 8.7910\t\n",
      "  700\t 8.7852\t\n",
      "  800\t 8.7794\t\n",
      "  900\t 8.7736\t\n",
      "Convergence achieved.\n"
     ]
    }
   ],
   "source": [
    "theta,theta_history,J_history = GD(theta0)"
   ]
  },
  {
   "cell_type": "code",
   "execution_count": 140,
   "id": "298bee4a",
   "metadata": {},
   "outputs": [
    {
     "data": {
      "text/plain": [
       "[<matplotlib.lines.Line2D at 0x7f93be0d8f10>]"
      ]
     },
     "execution_count": 140,
     "metadata": {},
     "output_type": "execute_result"
    },
    {
     "data": {
      "image/png": "[encoded data removed]",
      "text/plain": [
       "<Figure size 432x288 with 1 Axes>"
      ]
     },
     "metadata": {
      "needs_background": "light"
     },
     "output_type": "display_data"
    }
   ],
   "source": [
    "plt.plot(J_history)"
   ]
  },
  {
   "cell_type": "code",
   "execution_count": 141,
   "id": "8e601a00",
   "metadata": {},
   "outputs": [
    {
     "data": {
      "text/plain": [
       "[<matplotlib.lines.Line2D at 0x7f93be194430>]"
      ]
     },
     "execution_count": 141,
     "metadata": {},
     "output_type": "execute_result"
    },
    {
     "data": {
      "image/png": "[encoded data removed]",
      "text/plain": [
       "<Figure size 432x288 with 1 Axes>"
      ]
     },
     "metadata": {
      "needs_background": "light"
     },
     "output_type": "display_data"
    }
   ],
   "source": [
    "yprednorm = Xnorm.dot(theta)\n",
    "\n",
    "ypred = yprednorm*(maxy-miny) + miny\n",
    "plt.plot(y[sortidx,0],'o')\n",
    "plt.plot(ypred[sortidx,0],'--')"
   ]
  }
 ],
 "metadata": {
  "kernelspec": {
   "display_name": "Python 3",
   "language": "python",
   "name": "python3"
  },
  "language_info": {
   "codemirror_mode": {
    "name": "ipython",
    "version": 3
   },
   "file_extension": ".py",
   "mimetype": "text/x-python",
   "name": "python",
   "nbconvert_exporter": "python",
   "pygments_lexer": "ipython3",
   "version": "3.8.8"
  }
 },
 "nbformat": 4,
 "nbformat_minor": 5
}
