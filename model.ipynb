{
 "cells": [
  {
   "cell_type": "code",
   "execution_count": 1,
   "id": "2ec1fbd8",
   "metadata": {},
   "outputs": [],
   "source": [
    "from datetime import datetime\n",
    "import numpy as np\n",
    "import pandas as pd\n",
    "import matplotlib.pyplot as plt\n",
    "import openpyxl\n",
    "import xlsxwriter\n",
    "from pathlib import Path\n",
    "from pandas import DataFrame\n",
    "import re\n",
    "import os\n",
    "from datetime import timedelta\n",
    "from sklearn.impute import SimpleImputer"
   ]
  },
  {
   "cell_type": "code",
   "execution_count": 2,
   "id": "bd959270",
   "metadata": {},
   "outputs": [
    {
     "data": {
      "text/html": [
       "<div>\n",
       "<style scoped>\n",
       "    .dataframe tbody tr th:only-of-type {\n",
       "        vertical-align: middle;\n",
       "    }\n",
       "\n",
       "    .dataframe tbody tr th {\n",
       "        vertical-align: top;\n",
       "    }\n",
       "\n",
       "    .dataframe thead th {\n",
       "        text-align: right;\n",
       "    }\n",
       "</style>\n",
       "<table border=\"1\" class=\"dataframe\">\n",
       "  <thead>\n",
       "    <tr style=\"text-align: right;\">\n",
       "      <th></th>\n",
       "      <th>Date</th>\n",
       "      <th>Country</th>\n",
       "      <th>NumDay</th>\n",
       "      <th>LP</th>\n",
       "      <th>GDP</th>\n",
       "    </tr>\n",
       "  </thead>\n",
       "  <tbody>\n",
       "    <tr>\n",
       "      <th>0</th>\n",
       "      <td>1996-06-30</td>\n",
       "      <td>DE</td>\n",
       "      <td>13</td>\n",
       "      <td>87.9</td>\n",
       "      <td>77.663</td>\n",
       "    </tr>\n",
       "    <tr>\n",
       "      <th>1</th>\n",
       "      <td>1996-09-30</td>\n",
       "      <td>DE</td>\n",
       "      <td>8</td>\n",
       "      <td>88.3</td>\n",
       "      <td>77.934</td>\n",
       "    </tr>\n",
       "    <tr>\n",
       "      <th>2</th>\n",
       "      <td>1997-06-30</td>\n",
       "      <td>DE</td>\n",
       "      <td>0</td>\n",
       "      <td>89.7</td>\n",
       "      <td>79.098</td>\n",
       "    </tr>\n",
       "    <tr>\n",
       "      <th>3</th>\n",
       "      <td>1997-09-30</td>\n",
       "      <td>DE</td>\n",
       "      <td>19</td>\n",
       "      <td>89.9</td>\n",
       "      <td>79.368</td>\n",
       "    </tr>\n",
       "    <tr>\n",
       "      <th>4</th>\n",
       "      <td>1998-06-30</td>\n",
       "      <td>DE</td>\n",
       "      <td>8</td>\n",
       "      <td>90.3</td>\n",
       "      <td>80.354</td>\n",
       "    </tr>\n",
       "    <tr>\n",
       "      <th>...</th>\n",
       "      <td>...</td>\n",
       "      <td>...</td>\n",
       "      <td>...</td>\n",
       "      <td>...</td>\n",
       "      <td>...</td>\n",
       "    </tr>\n",
       "    <tr>\n",
       "      <th>139</th>\n",
       "      <td>2017-09-30</td>\n",
       "      <td>NL</td>\n",
       "      <td>16</td>\n",
       "      <td>101.3</td>\n",
       "      <td>105.622</td>\n",
       "    </tr>\n",
       "    <tr>\n",
       "      <th>140</th>\n",
       "      <td>2018-06-30</td>\n",
       "      <td>NL</td>\n",
       "      <td>22</td>\n",
       "      <td>101.1</td>\n",
       "      <td>107.590</td>\n",
       "    </tr>\n",
       "    <tr>\n",
       "      <th>141</th>\n",
       "      <td>2018-09-30</td>\n",
       "      <td>NL</td>\n",
       "      <td>41</td>\n",
       "      <td>100.7</td>\n",
       "      <td>107.830</td>\n",
       "    </tr>\n",
       "    <tr>\n",
       "      <th>142</th>\n",
       "      <td>2019-06-30</td>\n",
       "      <td>NL</td>\n",
       "      <td>14</td>\n",
       "      <td>100.7</td>\n",
       "      <td>109.203</td>\n",
       "    </tr>\n",
       "    <tr>\n",
       "      <th>143</th>\n",
       "      <td>2019-09-30</td>\n",
       "      <td>NL</td>\n",
       "      <td>37</td>\n",
       "      <td>100.8</td>\n",
       "      <td>109.569</td>\n",
       "    </tr>\n",
       "  </tbody>\n",
       "</table>\n",
       "<p>144 rows × 5 columns</p>\n",
       "</div>"
      ],
      "text/plain": [
       "          Date Country  NumDay     LP      GDP\n",
       "0   1996-06-30      DE      13   87.9   77.663\n",
       "1   1996-09-30      DE       8   88.3   77.934\n",
       "2   1997-06-30      DE       0   89.7   79.098\n",
       "3   1997-09-30      DE      19   89.9   79.368\n",
       "4   1998-06-30      DE       8   90.3   80.354\n",
       "..         ...     ...     ...    ...      ...\n",
       "139 2017-09-30      NL      16  101.3  105.622\n",
       "140 2018-06-30      NL      22  101.1  107.590\n",
       "141 2018-09-30      NL      41  100.7  107.830\n",
       "142 2019-06-30      NL      14  100.7  109.203\n",
       "143 2019-09-30      NL      37  100.8  109.569\n",
       "\n",
       "[144 rows x 5 columns]"
      ]
     },
     "execution_count": 2,
     "metadata": {},
     "output_type": "execute_result"
    }
   ],
   "source": [
    "df = pd.read_excel(\"/Users/zhengxin/Downloads/NumDay_quarter.xlsx\",engine='openpyxl')\n",
    "df"
   ]
  },
  {
   "cell_type": "code",
   "execution_count": 3,
   "id": "1b71f9f7",
   "metadata": {},
   "outputs": [
    {
     "name": "stdout",
     "output_type": "stream",
     "text": [
      "<class 'pandas.core.frame.DataFrame'>\n",
      "RangeIndex: 144 entries, 0 to 143\n",
      "Data columns (total 7 columns):\n",
      " #   Column   Non-Null Count  Dtype  \n",
      "---  ------   --------------  -----  \n",
      " 0   Date     144 non-null    object \n",
      " 1   Country  144 non-null    object \n",
      " 2   NumDay   144 non-null    int64  \n",
      " 3   LP       144 non-null    float64\n",
      " 4   GDP      144 non-null    float64\n",
      " 5   Year     144 non-null    int64  \n",
      " 6   Quarter  144 non-null    int64  \n",
      "dtypes: float64(2), int64(3), object(2)\n",
      "memory usage: 8.0+ KB\n",
      "None\n"
     ]
    },
    {
     "data": {
      "text/html": [
       "<div>\n",
       "<style scoped>\n",
       "    .dataframe tbody tr th:only-of-type {\n",
       "        vertical-align: middle;\n",
       "    }\n",
       "\n",
       "    .dataframe tbody tr th {\n",
       "        vertical-align: top;\n",
       "    }\n",
       "\n",
       "    .dataframe thead th {\n",
       "        text-align: right;\n",
       "    }\n",
       "</style>\n",
       "<table border=\"1\" class=\"dataframe\">\n",
       "  <thead>\n",
       "    <tr style=\"text-align: right;\">\n",
       "      <th></th>\n",
       "      <th>Date</th>\n",
       "      <th>Country</th>\n",
       "      <th>NumDay</th>\n",
       "      <th>LP</th>\n",
       "      <th>GDP</th>\n",
       "      <th>Year</th>\n",
       "      <th>Quarter</th>\n",
       "    </tr>\n",
       "  </thead>\n",
       "  <tbody>\n",
       "    <tr>\n",
       "      <th>0</th>\n",
       "      <td>30.06.1996</td>\n",
       "      <td>DE</td>\n",
       "      <td>13</td>\n",
       "      <td>87.9</td>\n",
       "      <td>77.663</td>\n",
       "      <td>1996</td>\n",
       "      <td>2</td>\n",
       "    </tr>\n",
       "    <tr>\n",
       "      <th>1</th>\n",
       "      <td>30.09.1996</td>\n",
       "      <td>DE</td>\n",
       "      <td>8</td>\n",
       "      <td>88.3</td>\n",
       "      <td>77.934</td>\n",
       "      <td>1996</td>\n",
       "      <td>3</td>\n",
       "    </tr>\n",
       "    <tr>\n",
       "      <th>2</th>\n",
       "      <td>30.06.1997</td>\n",
       "      <td>DE</td>\n",
       "      <td>0</td>\n",
       "      <td>89.7</td>\n",
       "      <td>79.098</td>\n",
       "      <td>1997</td>\n",
       "      <td>2</td>\n",
       "    </tr>\n",
       "    <tr>\n",
       "      <th>3</th>\n",
       "      <td>30.09.1997</td>\n",
       "      <td>DE</td>\n",
       "      <td>19</td>\n",
       "      <td>89.9</td>\n",
       "      <td>79.368</td>\n",
       "      <td>1997</td>\n",
       "      <td>3</td>\n",
       "    </tr>\n",
       "    <tr>\n",
       "      <th>4</th>\n",
       "      <td>30.06.1998</td>\n",
       "      <td>DE</td>\n",
       "      <td>8</td>\n",
       "      <td>90.3</td>\n",
       "      <td>80.354</td>\n",
       "      <td>1998</td>\n",
       "      <td>2</td>\n",
       "    </tr>\n",
       "    <tr>\n",
       "      <th>...</th>\n",
       "      <td>...</td>\n",
       "      <td>...</td>\n",
       "      <td>...</td>\n",
       "      <td>...</td>\n",
       "      <td>...</td>\n",
       "      <td>...</td>\n",
       "      <td>...</td>\n",
       "    </tr>\n",
       "    <tr>\n",
       "      <th>139</th>\n",
       "      <td>30.09.2017</td>\n",
       "      <td>NL</td>\n",
       "      <td>16</td>\n",
       "      <td>101.3</td>\n",
       "      <td>105.622</td>\n",
       "      <td>2017</td>\n",
       "      <td>3</td>\n",
       "    </tr>\n",
       "    <tr>\n",
       "      <th>140</th>\n",
       "      <td>30.06.2018</td>\n",
       "      <td>NL</td>\n",
       "      <td>22</td>\n",
       "      <td>101.1</td>\n",
       "      <td>107.590</td>\n",
       "      <td>2018</td>\n",
       "      <td>2</td>\n",
       "    </tr>\n",
       "    <tr>\n",
       "      <th>141</th>\n",
       "      <td>30.09.2018</td>\n",
       "      <td>NL</td>\n",
       "      <td>41</td>\n",
       "      <td>100.7</td>\n",
       "      <td>107.830</td>\n",
       "      <td>2018</td>\n",
       "      <td>3</td>\n",
       "    </tr>\n",
       "    <tr>\n",
       "      <th>142</th>\n",
       "      <td>30.06.2019</td>\n",
       "      <td>NL</td>\n",
       "      <td>14</td>\n",
       "      <td>100.7</td>\n",
       "      <td>109.203</td>\n",
       "      <td>2019</td>\n",
       "      <td>2</td>\n",
       "    </tr>\n",
       "    <tr>\n",
       "      <th>143</th>\n",
       "      <td>30.09.2019</td>\n",
       "      <td>NL</td>\n",
       "      <td>37</td>\n",
       "      <td>100.8</td>\n",
       "      <td>109.569</td>\n",
       "      <td>2019</td>\n",
       "      <td>3</td>\n",
       "    </tr>\n",
       "  </tbody>\n",
       "</table>\n",
       "<p>144 rows × 7 columns</p>\n",
       "</div>"
      ],
      "text/plain": [
       "           Date Country  NumDay     LP      GDP  Year  Quarter\n",
       "0    30.06.1996      DE      13   87.9   77.663  1996        2\n",
       "1    30.09.1996      DE       8   88.3   77.934  1996        3\n",
       "2    30.06.1997      DE       0   89.7   79.098  1997        2\n",
       "3    30.09.1997      DE      19   89.9   79.368  1997        3\n",
       "4    30.06.1998      DE       8   90.3   80.354  1998        2\n",
       "..          ...     ...     ...    ...      ...   ...      ...\n",
       "139  30.09.2017      NL      16  101.3  105.622  2017        3\n",
       "140  30.06.2018      NL      22  101.1  107.590  2018        2\n",
       "141  30.09.2018      NL      41  100.7  107.830  2018        3\n",
       "142  30.06.2019      NL      14  100.7  109.203  2019        2\n",
       "143  30.09.2019      NL      37  100.8  109.569  2019        3\n",
       "\n",
       "[144 rows x 7 columns]"
      ]
     },
     "execution_count": 3,
     "metadata": {},
     "output_type": "execute_result"
    }
   ],
   "source": [
    "df['Date'] = pd.to_datetime(df['Date'])\n",
    "df['Date'] = df['Date'].dt.strftime('%d.%m.%Y')\n",
    "df['Year'] = pd.DatetimeIndex(df['Date']).year\n",
    "df['Quarter'] = pd.DatetimeIndex(df['Date']).quarter\n",
    "print(df.info())\n",
    "df"
   ]
  },
  {
   "cell_type": "code",
   "execution_count": 4,
   "id": "91dbbe38",
   "metadata": {},
   "outputs": [
    {
     "data": {
      "text/html": [
       "<div>\n",
       "<style scoped>\n",
       "    .dataframe tbody tr th:only-of-type {\n",
       "        vertical-align: middle;\n",
       "    }\n",
       "\n",
       "    .dataframe tbody tr th {\n",
       "        vertical-align: top;\n",
       "    }\n",
       "\n",
       "    .dataframe thead th {\n",
       "        text-align: right;\n",
       "    }\n",
       "</style>\n",
       "<table border=\"1\" class=\"dataframe\">\n",
       "  <thead>\n",
       "    <tr style=\"text-align: right;\">\n",
       "      <th></th>\n",
       "      <th>Date</th>\n",
       "      <th>Country</th>\n",
       "      <th>NumDay</th>\n",
       "      <th>LP</th>\n",
       "      <th>GDP</th>\n",
       "      <th>Year</th>\n",
       "      <th>Quarter</th>\n",
       "      <th>Country_DE</th>\n",
       "      <th>Country_ES</th>\n",
       "      <th>Country_NL</th>\n",
       "    </tr>\n",
       "  </thead>\n",
       "  <tbody>\n",
       "    <tr>\n",
       "      <th>0</th>\n",
       "      <td>30.06.1996</td>\n",
       "      <td>DE</td>\n",
       "      <td>13</td>\n",
       "      <td>87.9</td>\n",
       "      <td>77.663</td>\n",
       "      <td>1996</td>\n",
       "      <td>2</td>\n",
       "      <td>1</td>\n",
       "      <td>0</td>\n",
       "      <td>0</td>\n",
       "    </tr>\n",
       "    <tr>\n",
       "      <th>1</th>\n",
       "      <td>30.09.1996</td>\n",
       "      <td>DE</td>\n",
       "      <td>8</td>\n",
       "      <td>88.3</td>\n",
       "      <td>77.934</td>\n",
       "      <td>1996</td>\n",
       "      <td>3</td>\n",
       "      <td>1</td>\n",
       "      <td>0</td>\n",
       "      <td>0</td>\n",
       "    </tr>\n",
       "    <tr>\n",
       "      <th>2</th>\n",
       "      <td>30.06.1997</td>\n",
       "      <td>DE</td>\n",
       "      <td>0</td>\n",
       "      <td>89.7</td>\n",
       "      <td>79.098</td>\n",
       "      <td>1997</td>\n",
       "      <td>2</td>\n",
       "      <td>1</td>\n",
       "      <td>0</td>\n",
       "      <td>0</td>\n",
       "    </tr>\n",
       "    <tr>\n",
       "      <th>3</th>\n",
       "      <td>30.09.1997</td>\n",
       "      <td>DE</td>\n",
       "      <td>19</td>\n",
       "      <td>89.9</td>\n",
       "      <td>79.368</td>\n",
       "      <td>1997</td>\n",
       "      <td>3</td>\n",
       "      <td>1</td>\n",
       "      <td>0</td>\n",
       "      <td>0</td>\n",
       "    </tr>\n",
       "    <tr>\n",
       "      <th>4</th>\n",
       "      <td>30.06.1998</td>\n",
       "      <td>DE</td>\n",
       "      <td>8</td>\n",
       "      <td>90.3</td>\n",
       "      <td>80.354</td>\n",
       "      <td>1998</td>\n",
       "      <td>2</td>\n",
       "      <td>1</td>\n",
       "      <td>0</td>\n",
       "      <td>0</td>\n",
       "    </tr>\n",
       "    <tr>\n",
       "      <th>...</th>\n",
       "      <td>...</td>\n",
       "      <td>...</td>\n",
       "      <td>...</td>\n",
       "      <td>...</td>\n",
       "      <td>...</td>\n",
       "      <td>...</td>\n",
       "      <td>...</td>\n",
       "      <td>...</td>\n",
       "      <td>...</td>\n",
       "      <td>...</td>\n",
       "    </tr>\n",
       "    <tr>\n",
       "      <th>139</th>\n",
       "      <td>30.09.2017</td>\n",
       "      <td>NL</td>\n",
       "      <td>16</td>\n",
       "      <td>101.3</td>\n",
       "      <td>105.622</td>\n",
       "      <td>2017</td>\n",
       "      <td>3</td>\n",
       "      <td>0</td>\n",
       "      <td>0</td>\n",
       "      <td>1</td>\n",
       "    </tr>\n",
       "    <tr>\n",
       "      <th>140</th>\n",
       "      <td>30.06.2018</td>\n",
       "      <td>NL</td>\n",
       "      <td>22</td>\n",
       "      <td>101.1</td>\n",
       "      <td>107.590</td>\n",
       "      <td>2018</td>\n",
       "      <td>2</td>\n",
       "      <td>0</td>\n",
       "      <td>0</td>\n",
       "      <td>1</td>\n",
       "    </tr>\n",
       "    <tr>\n",
       "      <th>141</th>\n",
       "      <td>30.09.2018</td>\n",
       "      <td>NL</td>\n",
       "      <td>41</td>\n",
       "      <td>100.7</td>\n",
       "      <td>107.830</td>\n",
       "      <td>2018</td>\n",
       "      <td>3</td>\n",
       "      <td>0</td>\n",
       "      <td>0</td>\n",
       "      <td>1</td>\n",
       "    </tr>\n",
       "    <tr>\n",
       "      <th>142</th>\n",
       "      <td>30.06.2019</td>\n",
       "      <td>NL</td>\n",
       "      <td>14</td>\n",
       "      <td>100.7</td>\n",
       "      <td>109.203</td>\n",
       "      <td>2019</td>\n",
       "      <td>2</td>\n",
       "      <td>0</td>\n",
       "      <td>0</td>\n",
       "      <td>1</td>\n",
       "    </tr>\n",
       "    <tr>\n",
       "      <th>143</th>\n",
       "      <td>30.09.2019</td>\n",
       "      <td>NL</td>\n",
       "      <td>37</td>\n",
       "      <td>100.8</td>\n",
       "      <td>109.569</td>\n",
       "      <td>2019</td>\n",
       "      <td>3</td>\n",
       "      <td>0</td>\n",
       "      <td>0</td>\n",
       "      <td>1</td>\n",
       "    </tr>\n",
       "  </tbody>\n",
       "</table>\n",
       "<p>144 rows × 10 columns</p>\n",
       "</div>"
      ],
      "text/plain": [
       "           Date Country  NumDay     LP      GDP  Year  Quarter  Country_DE  \\\n",
       "0    30.06.1996      DE      13   87.9   77.663  1996        2           1   \n",
       "1    30.09.1996      DE       8   88.3   77.934  1996        3           1   \n",
       "2    30.06.1997      DE       0   89.7   79.098  1997        2           1   \n",
       "3    30.09.1997      DE      19   89.9   79.368  1997        3           1   \n",
       "4    30.06.1998      DE       8   90.3   80.354  1998        2           1   \n",
       "..          ...     ...     ...    ...      ...   ...      ...         ...   \n",
       "139  30.09.2017      NL      16  101.3  105.622  2017        3           0   \n",
       "140  30.06.2018      NL      22  101.1  107.590  2018        2           0   \n",
       "141  30.09.2018      NL      41  100.7  107.830  2018        3           0   \n",
       "142  30.06.2019      NL      14  100.7  109.203  2019        2           0   \n",
       "143  30.09.2019      NL      37  100.8  109.569  2019        3           0   \n",
       "\n",
       "     Country_ES  Country_NL  \n",
       "0             0           0  \n",
       "1             0           0  \n",
       "2             0           0  \n",
       "3             0           0  \n",
       "4             0           0  \n",
       "..          ...         ...  \n",
       "139           0           1  \n",
       "140           0           1  \n",
       "141           0           1  \n",
       "142           0           1  \n",
       "143           0           1  \n",
       "\n",
       "[144 rows x 10 columns]"
      ]
     },
     "execution_count": 4,
     "metadata": {},
     "output_type": "execute_result"
    }
   ],
   "source": [
    "# dummy encoding\n",
    "df['Country_'] = df['Country']\n",
    "df = pd.get_dummies(df, columns=['Country_'], drop_first=False, prefix='Country')\n",
    "df"
   ]
  },
  {
   "cell_type": "markdown",
   "id": "52ca09c8",
   "metadata": {},
   "source": [
    "## Time series"
   ]
  },
  {
   "cell_type": "code",
   "execution_count": 5,
   "id": "1710d9b1",
   "metadata": {},
   "outputs": [
    {
     "data": {
      "image/png": "[encoded data removed]",
      "text/plain": [
       "<Figure size 3600x576 with 1 Axes>"
      ]
     },
     "metadata": {
      "needs_background": "light"
     },
     "output_type": "display_data"
    }
   ],
   "source": [
    "plt.figure(figsize=(50, 8))\n",
    "plt.plot(df.loc[df['Country'] == 'DE']['Date'], df.loc[df['Country'] == 'DE']['LP'], \n",
    "         'b-', label = 'DE')\n",
    "plt.plot(df.loc[df['Country'] == 'NL']['Date'], df.loc[df['Country'] == 'NL']['LP'], \n",
    "         'r-', label = 'NL')\n",
    "plt.plot(df.loc[df['Country'] == 'ES']['Date'], df.loc[df['Country'] == 'ES']['LP'], \n",
    "         'g-', label = 'ES')\n",
    "plt.xlabel('Date'); \n",
    "plt.ylabel('LP'); \n",
    "plt.legend();"
   ]
  },
  {
   "cell_type": "markdown",
   "id": "3b3b3edc",
   "metadata": {},
   "source": [
    "## Machine learning models"
   ]
  },
  {
   "cell_type": "code",
   "execution_count": 6,
   "id": "378c7b00",
   "metadata": {},
   "outputs": [],
   "source": [
    "from sklearn import model_selection\n",
    "from sklearn.tree import DecisionTreeRegressor\n",
    "from sklearn.ensemble import RandomForestRegressor\n",
    "from sklearn.metrics import r2_score\n",
    "from sklearn.metrics import mean_squared_error\n",
    "from math import sqrt"
   ]
  },
  {
   "cell_type": "code",
   "execution_count": 7,
   "id": "d4c3f106",
   "metadata": {},
   "outputs": [],
   "source": [
    "# from sklearn.model_selection import train_test_split\n",
    "target_column_test = ['LP'] \n",
    "predictors_test = ['NumDay', 'Year', 'Quarter',\n",
    "                  'Country_DE', 'Country_ES', 'Country_NL']\n",
    "X = df[predictors_test]\n",
    "y = df[target_column_test]\n",
    "# X_train, X_test, y_train, y_test = train_test_split(\n",
    "#     df[predictors_test], df[target_column_test], test_size=0.20, random_state=0)"
   ]
  },
  {
   "cell_type": "code",
   "execution_count": 8,
   "id": "21dc465b",
   "metadata": {},
   "outputs": [
    {
     "name": "stdout",
     "output_type": "stream",
     "text": [
      "TimeSeriesSplit(gap=0, max_train_size=None, n_splits=5, test_size=None)\n",
      "TRAIN: [ 0  1  2  3  4  5  6  7  8  9 10 11 12 13 14 15 16 17 18 19 20 21 22 23] TEST: [24 25 26 27 28 29 30 31 32 33 34 35 36 37 38 39 40 41 42 43 44 45 46 47]\n",
      "TRAIN: [ 0  1  2  3  4  5  6  7  8  9 10 11 12 13 14 15 16 17 18 19 20 21 22 23\n",
      " 24 25 26 27 28 29 30 31 32 33 34 35 36 37 38 39 40 41 42 43 44 45 46 47] TEST: [48 49 50 51 52 53 54 55 56 57 58 59 60 61 62 63 64 65 66 67 68 69 70 71]\n",
      "TRAIN: [ 0  1  2  3  4  5  6  7  8  9 10 11 12 13 14 15 16 17 18 19 20 21 22 23\n",
      " 24 25 26 27 28 29 30 31 32 33 34 35 36 37 38 39 40 41 42 43 44 45 46 47\n",
      " 48 49 50 51 52 53 54 55 56 57 58 59 60 61 62 63 64 65 66 67 68 69 70 71] TEST: [72 73 74 75 76 77 78 79 80 81 82 83 84 85 86 87 88 89 90 91 92 93 94 95]\n",
      "TRAIN: [ 0  1  2  3  4  5  6  7  8  9 10 11 12 13 14 15 16 17 18 19 20 21 22 23\n",
      " 24 25 26 27 28 29 30 31 32 33 34 35 36 37 38 39 40 41 42 43 44 45 46 47\n",
      " 48 49 50 51 52 53 54 55 56 57 58 59 60 61 62 63 64 65 66 67 68 69 70 71\n",
      " 72 73 74 75 76 77 78 79 80 81 82 83 84 85 86 87 88 89 90 91 92 93 94 95] TEST: [ 96  97  98  99 100 101 102 103 104 105 106 107 108 109 110 111 112 113\n",
      " 114 115 116 117 118 119]\n",
      "TRAIN: [  0   1   2   3   4   5   6   7   8   9  10  11  12  13  14  15  16  17\n",
      "  18  19  20  21  22  23  24  25  26  27  28  29  30  31  32  33  34  35\n",
      "  36  37  38  39  40  41  42  43  44  45  46  47  48  49  50  51  52  53\n",
      "  54  55  56  57  58  59  60  61  62  63  64  65  66  67  68  69  70  71\n",
      "  72  73  74  75  76  77  78  79  80  81  82  83  84  85  86  87  88  89\n",
      "  90  91  92  93  94  95  96  97  98  99 100 101 102 103 104 105 106 107\n",
      " 108 109 110 111 112 113 114 115 116 117 118 119] TEST: [120 121 122 123 124 125 126 127 128 129 130 131 132 133 134 135 136 137\n",
      " 138 139 140 141 142 143]\n"
     ]
    }
   ],
   "source": [
    "# generate pairs of train/test sets\n",
    "from sklearn.model_selection import TimeSeriesSplit\n",
    "tscv = TimeSeriesSplit()\n",
    "print(tscv)\n",
    "for train_index, test_index in tscv.split(X):\n",
    "    print(\"TRAIN:\", train_index, \"TEST:\", test_index) \n",
    "    X_train, X_test = X.iloc[train_index], X.iloc[test_index]\n",
    "    y_train, y_test = y.iloc[train_index], y.iloc[test_index]"
   ]
  },
  {
   "cell_type": "markdown",
   "id": "d25c5125",
   "metadata": {},
   "source": [
    "### Decision trees"
   ]
  },
  {
   "cell_type": "code",
   "execution_count": 9,
   "id": "fe4fec3a",
   "metadata": {},
   "outputs": [
    {
     "name": "stdout",
     "output_type": "stream",
     "text": [
      "RMSE(train): 0.0\n",
      "R2(train): 1.0\n",
      "RMSE(test): 1.4002975874196644\n",
      "R2(test): 0.5318577468291467\n"
     ]
    }
   ],
   "source": [
    "# timeseries split cross validation\n",
    "from sklearn.model_selection import TimeSeriesSplit\n",
    "from sklearn.metrics import mean_squared_error\n",
    "import statsmodels.api as sm\n",
    "tscv = TimeSeriesSplit()\n",
    "for train_index, test_index in tscv.split(X):\n",
    "    X_train, X_test = X.iloc[train_index], X.iloc[test_index]\n",
    "    y_train, y_test = y.iloc[train_index], y.iloc[test_index]\n",
    "    \n",
    "    model = DecisionTreeRegressor().fit(X_train, y_train)\n",
    "    pred_test_tree = model.predict(X_test)\n",
    "    pred_train_tree= model.predict(X_train)\n",
    "    \n",
    "print(\"RMSE(train):\",np.sqrt(mean_squared_error(y_train,pred_train_tree)))\n",
    "print(\"R2(train):\", r2_score(y_train, pred_train_tree))\n",
    "print(\"RMSE(test):\", np.sqrt(mean_squared_error(y_test,pred_test_tree))) \n",
    "print(\"R2(test):\", r2_score(y_test, pred_test_tree))"
   ]
  },
  {
   "cell_type": "code",
   "execution_count": 10,
   "id": "2bad02e3",
   "metadata": {},
   "outputs": [],
   "source": [
    "# 5-fold cross-validation\n",
    "# from sklearn.model_selection import GridSearchCV\n",
    "\n",
    "# model = DecisionTreeRegressor()\n",
    "# gs = GridSearchCV(model,\n",
    "#                   param_grid = {'max_depth': range(1, 11),\n",
    "#                                 'min_samples_split': range(10, 60, 10)},\n",
    "#                   cv=5,\n",
    "#                   n_jobs=1,\n",
    "#                   scoring='neg_mean_squared_error')\n",
    "\n",
    "# gs.fit(X_train, y_train)\n",
    "\n",
    "# print(gs.best_params_)\n",
    "# print(-gs.best_score_)"
   ]
  },
  {
   "cell_type": "code",
   "execution_count": 11,
   "id": "6790a850",
   "metadata": {},
   "outputs": [],
   "source": [
    "# new_model = DecisionTreeRegressor(max_depth=4,\n",
    "#                                   min_samples_split=10)\n",
    "# #or new_model = gs.best_estimator_\n",
    "# new_model.fit(X_train, y_train)"
   ]
  },
  {
   "cell_type": "code",
   "execution_count": 12,
   "id": "9a85a407",
   "metadata": {},
   "outputs": [
    {
     "data": {
      "text/html": [
       "<div>\n",
       "<style scoped>\n",
       "    .dataframe tbody tr th:only-of-type {\n",
       "        vertical-align: middle;\n",
       "    }\n",
       "\n",
       "    .dataframe tbody tr th {\n",
       "        vertical-align: top;\n",
       "    }\n",
       "\n",
       "    .dataframe thead th {\n",
       "        text-align: right;\n",
       "    }\n",
       "</style>\n",
       "<table border=\"1\" class=\"dataframe\">\n",
       "  <thead>\n",
       "    <tr style=\"text-align: right;\">\n",
       "      <th></th>\n",
       "      <th>Variable</th>\n",
       "      <th>Importance</th>\n",
       "    </tr>\n",
       "  </thead>\n",
       "  <tbody>\n",
       "    <tr>\n",
       "      <th>1</th>\n",
       "      <td>Year</td>\n",
       "      <td>0.891037</td>\n",
       "    </tr>\n",
       "    <tr>\n",
       "      <th>4</th>\n",
       "      <td>Country_ES</td>\n",
       "      <td>0.069658</td>\n",
       "    </tr>\n",
       "    <tr>\n",
       "      <th>5</th>\n",
       "      <td>Country_NL</td>\n",
       "      <td>0.031450</td>\n",
       "    </tr>\n",
       "    <tr>\n",
       "      <th>3</th>\n",
       "      <td>Country_DE</td>\n",
       "      <td>0.005474</td>\n",
       "    </tr>\n",
       "    <tr>\n",
       "      <th>0</th>\n",
       "      <td>NumDay</td>\n",
       "      <td>0.001359</td>\n",
       "    </tr>\n",
       "    <tr>\n",
       "      <th>2</th>\n",
       "      <td>Quarter</td>\n",
       "      <td>0.001022</td>\n",
       "    </tr>\n",
       "  </tbody>\n",
       "</table>\n",
       "</div>"
      ],
      "text/plain": [
       "     Variable  Importance\n",
       "1        Year    0.891037\n",
       "4  Country_ES    0.069658\n",
       "5  Country_NL    0.031450\n",
       "3  Country_DE    0.005474\n",
       "0      NumDay    0.001359\n",
       "2     Quarter    0.001022"
      ]
     },
     "execution_count": 12,
     "metadata": {},
     "output_type": "execute_result"
    }
   ],
   "source": [
    "# the more importance, the more relevant the variable is, according to the model.\n",
    "pd.DataFrame({'Variable':X_train.columns,\n",
    "              'Importance':model.feature_importances_}).sort_values('Importance', \n",
    "                                                                        ascending=False)"
   ]
  },
  {
   "cell_type": "code",
   "execution_count": 13,
   "id": "dcfebae2",
   "metadata": {},
   "outputs": [],
   "source": [
    "# pred_train_tree= new_model.predict(X_train)\n",
    "# print(np.sqrt(mean_squared_error(y_train,pred_train_tree)))\n",
    "# print(r2_score(y_train, pred_train_tree))"
   ]
  },
  {
   "cell_type": "code",
   "execution_count": 14,
   "id": "6201ef04",
   "metadata": {},
   "outputs": [],
   "source": [
    "# pred_test_tree= new_model.predict(X_test)\n",
    "# print(np.sqrt(mean_squared_error(y_test,pred_test_tree))) \n",
    "# print(r2_score(y_test, pred_test_tree))"
   ]
  },
  {
   "cell_type": "markdown",
   "id": "2aada012",
   "metadata": {},
   "source": [
    "### Random Forest"
   ]
  },
  {
   "cell_type": "code",
   "execution_count": 15,
   "id": "3c640aa7",
   "metadata": {},
   "outputs": [
    {
     "name": "stdout",
     "output_type": "stream",
     "text": [
      "RMSE(train): 0.29990886115617366\n",
      "R2(train): 0.9962056229878642\n",
      "RMSE(test): 0.804283117647839\n",
      "R2(test): 0.8455616811738386\n"
     ]
    }
   ],
   "source": [
    "# timeseries split cross validation\n",
    "from sklearn.model_selection import TimeSeriesSplit\n",
    "from sklearn.metrics import mean_squared_error\n",
    "import statsmodels.api as sm\n",
    "tscv = TimeSeriesSplit()\n",
    "for train_index, test_index in tscv.split(X):\n",
    "    X_train, X_test = X.iloc[train_index], X.iloc[test_index]\n",
    "    y_train, y_test = y.iloc[train_index], y.iloc[test_index]\n",
    "    \n",
    "    rf_model = RandomForestRegressor().fit(X_train, y_train.values.ravel())\n",
    "    pred_test_tree = rf_model.predict(X_test)\n",
    "    pred_train_tree= rf_model.predict(X_train)\n",
    "    \n",
    "print(\"RMSE(train):\",np.sqrt(mean_squared_error(y_train,pred_train_tree)))\n",
    "print(\"R2(train):\", r2_score(y_train, pred_train_tree))\n",
    "print(\"RMSE(test):\", np.sqrt(mean_squared_error(y_test,pred_test_tree))) \n",
    "print(\"R2(test):\", r2_score(y_test, pred_test_tree))"
   ]
  },
  {
   "cell_type": "code",
   "execution_count": 16,
   "id": "992d20a9",
   "metadata": {},
   "outputs": [],
   "source": [
    "# # 5-fold cross-validation\n",
    "# from sklearn.model_selection import GridSearchCV\n",
    "\n",
    "# model = RandomForestRegressor()\n",
    "# gs = GridSearchCV(model,\n",
    "#                   param_grid = {'max_depth': range(1, 11),\n",
    "#                                 'min_samples_split': range(10, 60, 10)},\n",
    "#                   cv=5,\n",
    "#                   n_jobs=1,\n",
    "#                   scoring='neg_mean_squared_error')\n",
    "\n",
    "# gs.fit(X_train, y_train.values.ravel())\n",
    "\n",
    "# print(gs.best_params_)\n",
    "# print(-gs.best_score_)"
   ]
  },
  {
   "cell_type": "code",
   "execution_count": 17,
   "id": "71d855c8",
   "metadata": {},
   "outputs": [],
   "source": [
    "# new_model = RandomForestRegressor(max_depth=5,\n",
    "#                                   min_samples_split=10)\n",
    "# #or new_model = gs.best_estimator_\n",
    "# new_model.fit(X_train, y_train.values.ravel())\n",
    "# pred_train_tree= new_model.predict(X_train)\n",
    "# print(np.sqrt(mean_squared_error(y_train,pred_train_tree)))\n",
    "# print(r2_score(y_train, pred_train_tree))\n",
    "# pred_test_tree= new_model.predict(X_test)\n",
    "# print(np.sqrt(mean_squared_error(y_test,pred_test_tree))) \n",
    "# print(r2_score(y_test, pred_test_tree))"
   ]
  },
  {
   "cell_type": "code",
   "execution_count": 18,
   "id": "99e67d73",
   "metadata": {},
   "outputs": [
    {
     "data": {
      "text/html": [
       "<div>\n",
       "<style scoped>\n",
       "    .dataframe tbody tr th:only-of-type {\n",
       "        vertical-align: middle;\n",
       "    }\n",
       "\n",
       "    .dataframe tbody tr th {\n",
       "        vertical-align: top;\n",
       "    }\n",
       "\n",
       "    .dataframe thead th {\n",
       "        text-align: right;\n",
       "    }\n",
       "</style>\n",
       "<table border=\"1\" class=\"dataframe\">\n",
       "  <thead>\n",
       "    <tr style=\"text-align: right;\">\n",
       "      <th></th>\n",
       "      <th>Variable</th>\n",
       "      <th>Importance</th>\n",
       "    </tr>\n",
       "  </thead>\n",
       "  <tbody>\n",
       "    <tr>\n",
       "      <th>1</th>\n",
       "      <td>Year</td>\n",
       "      <td>0.878767</td>\n",
       "    </tr>\n",
       "    <tr>\n",
       "      <th>4</th>\n",
       "      <td>Country_ES</td>\n",
       "      <td>0.054093</td>\n",
       "    </tr>\n",
       "    <tr>\n",
       "      <th>5</th>\n",
       "      <td>Country_NL</td>\n",
       "      <td>0.028707</td>\n",
       "    </tr>\n",
       "    <tr>\n",
       "      <th>0</th>\n",
       "      <td>NumDay</td>\n",
       "      <td>0.019941</td>\n",
       "    </tr>\n",
       "    <tr>\n",
       "      <th>3</th>\n",
       "      <td>Country_DE</td>\n",
       "      <td>0.017378</td>\n",
       "    </tr>\n",
       "    <tr>\n",
       "      <th>2</th>\n",
       "      <td>Quarter</td>\n",
       "      <td>0.001115</td>\n",
       "    </tr>\n",
       "  </tbody>\n",
       "</table>\n",
       "</div>"
      ],
      "text/plain": [
       "     Variable  Importance\n",
       "1        Year    0.878767\n",
       "4  Country_ES    0.054093\n",
       "5  Country_NL    0.028707\n",
       "0      NumDay    0.019941\n",
       "3  Country_DE    0.017378\n",
       "2     Quarter    0.001115"
      ]
     },
     "execution_count": 18,
     "metadata": {},
     "output_type": "execute_result"
    }
   ],
   "source": [
    "# the more importance, the more relevant the variable is, according to the model.\n",
    "pd.DataFrame({'Variable':X_train.columns,\n",
    "              'Importance':rf_model.feature_importances_}).sort_values('Importance', \n",
    "                                                                        ascending=False)"
   ]
  },
  {
   "cell_type": "markdown",
   "id": "da7567f3",
   "metadata": {},
   "source": [
    "### Linear Mixed-Effects Models Using lme4"
   ]
  },
  {
   "cell_type": "code",
   "execution_count": 19,
   "id": "d596dd06",
   "metadata": {},
   "outputs": [
    {
     "name": "stdout",
     "output_type": "stream",
     "text": [
      "           LP    NumDay      Year  Quarter  Country_DE  Country_ES  \\\n",
      "0    0.233161  0.228070  0.000000      0.0         1.0         0.0   \n",
      "1    0.253886  0.140351  0.000000      1.0         1.0         0.0   \n",
      "2    0.326425  0.000000  0.043478      0.0         1.0         0.0   \n",
      "3    0.336788  0.333333  0.043478      1.0         1.0         0.0   \n",
      "4    0.357513  0.140351  0.086957      0.0         1.0         0.0   \n",
      "..        ...       ...       ...      ...         ...         ...   \n",
      "139  0.927461  0.280702  0.913043      1.0         0.0         0.0   \n",
      "140  0.917098  0.385965  0.956522      0.0         0.0         0.0   \n",
      "141  0.896373  0.719298  0.956522      1.0         0.0         0.0   \n",
      "142  0.896373  0.245614  1.000000      0.0         0.0         0.0   \n",
      "143  0.901554  0.649123  1.000000      1.0         0.0         0.0   \n",
      "\n",
      "     Country_NL Country  \n",
      "0           0.0      DE  \n",
      "1           0.0      DE  \n",
      "2           0.0      DE  \n",
      "3           0.0      DE  \n",
      "4           0.0      DE  \n",
      "..          ...     ...  \n",
      "139         1.0      NL  \n",
      "140         1.0      NL  \n",
      "141         1.0      NL  \n",
      "142         1.0      NL  \n",
      "143         1.0      NL  \n",
      "\n",
      "[144 rows x 8 columns]\n"
     ]
    }
   ],
   "source": [
    "# Normalize time series data\n",
    "from sklearn import preprocessing\n",
    "columns = ['LP','NumDay', 'Year', 'Quarter','Country_DE', 'Country_ES', 'Country_NL']\n",
    "\n",
    "x = df[columns].values #returns a numpy array\n",
    "min_max_scaler = preprocessing.MinMaxScaler()\n",
    "x_scaled = min_max_scaler.fit_transform(x)\n",
    "df_norm = pd.DataFrame(x_scaled)\n",
    "df_norm.columns = columns\n",
    "df_norm[\"Country\"] = df[\"Country\"]\n",
    "print(df_norm)"
   ]
  },
  {
   "cell_type": "code",
   "execution_count": 20,
   "id": "e34a6035",
   "metadata": {},
   "outputs": [
    {
     "name": "stdout",
     "output_type": "stream",
     "text": [
      "boundary (singular) fit: see ?isSingular \n",
      "\n",
      "Formula: LP~Year+Quarter+NumDay+(Year+Quarter|Country)\n",
      "\n",
      "Family: gaussian\t Inference: parametric\n",
      "\n",
      "Number of observations: 144\t Groups: {'Country': 3.0}\n",
      "\n",
      "Log-likelihood: 131.448 \t AIC: -262.895\n",
      "\n",
      "Random effects:\n",
      "\n",
      "                 Name    Var    Std\n",
      "Country   (Intercept)  0.008  0.087\n",
      "Country          Year  0.005  0.069\n",
      "Country       Quarter  0.000  0.003\n",
      "Residual               0.008  0.088\n",
      "\n",
      "                 IV1      IV2   Corr\n",
      "Country  (Intercept)     Year -0.834\n",
      "Country  (Intercept)  Quarter -0.897\n",
      "Country         Year  Quarter  0.992\n",
      "\n",
      "Fixed effects:\n",
      "\n"
     ]
    },
    {
     "data": {
      "text/html": [
       "<div>\n",
       "<style scoped>\n",
       "    .dataframe tbody tr th:only-of-type {\n",
       "        vertical-align: middle;\n",
       "    }\n",
       "\n",
       "    .dataframe tbody tr th {\n",
       "        vertical-align: top;\n",
       "    }\n",
       "\n",
       "    .dataframe thead th {\n",
       "        text-align: right;\n",
       "    }\n",
       "</style>\n",
       "<table border=\"1\" class=\"dataframe\">\n",
       "  <thead>\n",
       "    <tr style=\"text-align: right;\">\n",
       "      <th></th>\n",
       "      <th>Estimate</th>\n",
       "      <th>2.5_ci</th>\n",
       "      <th>97.5_ci</th>\n",
       "      <th>SE</th>\n",
       "      <th>DF</th>\n",
       "      <th>T-stat</th>\n",
       "      <th>P-val</th>\n",
       "      <th>Sig</th>\n",
       "    </tr>\n",
       "  </thead>\n",
       "  <tbody>\n",
       "    <tr>\n",
       "      <th>(Intercept)</th>\n",
       "      <td>0.216</td>\n",
       "      <td>0.113</td>\n",
       "      <td>0.319</td>\n",
       "      <td>0.053</td>\n",
       "      <td>2.015</td>\n",
       "      <td>4.098</td>\n",
       "      <td>0.054</td>\n",
       "      <td>.</td>\n",
       "    </tr>\n",
       "    <tr>\n",
       "      <th>Year</th>\n",
       "      <td>0.760</td>\n",
       "      <td>0.668</td>\n",
       "      <td>0.853</td>\n",
       "      <td>0.047</td>\n",
       "      <td>2.058</td>\n",
       "      <td>16.112</td>\n",
       "      <td>0.003</td>\n",
       "      <td>**</td>\n",
       "    </tr>\n",
       "    <tr>\n",
       "      <th>Quarter</th>\n",
       "      <td>0.016</td>\n",
       "      <td>-0.018</td>\n",
       "      <td>0.050</td>\n",
       "      <td>0.018</td>\n",
       "      <td>81.896</td>\n",
       "      <td>0.914</td>\n",
       "      <td>0.363</td>\n",
       "      <td></td>\n",
       "    </tr>\n",
       "    <tr>\n",
       "      <th>NumDay</th>\n",
       "      <td>-0.020</td>\n",
       "      <td>-0.085</td>\n",
       "      <td>0.045</td>\n",
       "      <td>0.033</td>\n",
       "      <td>137.303</td>\n",
       "      <td>-0.598</td>\n",
       "      <td>0.551</td>\n",
       "      <td></td>\n",
       "    </tr>\n",
       "  </tbody>\n",
       "</table>\n",
       "</div>"
      ],
      "text/plain": [
       "             Estimate  2.5_ci  97.5_ci     SE       DF  T-stat  P-val Sig\n",
       "(Intercept)     0.216   0.113    0.319  0.053    2.015   4.098  0.054   .\n",
       "Year            0.760   0.668    0.853  0.047    2.058  16.112  0.003  **\n",
       "Quarter         0.016  -0.018    0.050  0.018   81.896   0.914  0.363    \n",
       "NumDay         -0.020  -0.085    0.045  0.033  137.303  -0.598  0.551    "
      ]
     },
     "metadata": {},
     "output_type": "display_data"
    },
    {
     "name": "stdout",
     "output_type": "stream",
     "text": [
      "SS Type III Analysis of Variance Table with Satterthwaite approximated degrees of freedom:\n",
      "(NOTE: Using original model contrasts, orthogonality not guaranteed)\n"
     ]
    },
    {
     "data": {
      "text/html": [
       "<div>\n",
       "<style scoped>\n",
       "    .dataframe tbody tr th:only-of-type {\n",
       "        vertical-align: middle;\n",
       "    }\n",
       "\n",
       "    .dataframe tbody tr th {\n",
       "        vertical-align: top;\n",
       "    }\n",
       "\n",
       "    .dataframe thead th {\n",
       "        text-align: right;\n",
       "    }\n",
       "</style>\n",
       "<table border=\"1\" class=\"dataframe\">\n",
       "  <thead>\n",
       "    <tr style=\"text-align: right;\">\n",
       "      <th></th>\n",
       "      <th>SS</th>\n",
       "      <th>MS</th>\n",
       "      <th>NumDF</th>\n",
       "      <th>DenomDF</th>\n",
       "      <th>F-stat</th>\n",
       "      <th>P-val</th>\n",
       "      <th>Sig</th>\n",
       "    </tr>\n",
       "  </thead>\n",
       "  <tbody>\n",
       "    <tr>\n",
       "      <th>0</th>\n",
       "      <td>1.994837</td>\n",
       "      <td>1.994837</td>\n",
       "      <td>1</td>\n",
       "      <td>2.057824</td>\n",
       "      <td>259.597910</td>\n",
       "      <td>0.003387</td>\n",
       "      <td>**</td>\n",
       "    </tr>\n",
       "    <tr>\n",
       "      <th>1</th>\n",
       "      <td>0.006419</td>\n",
       "      <td>0.006419</td>\n",
       "      <td>1</td>\n",
       "      <td>81.896164</td>\n",
       "      <td>0.835365</td>\n",
       "      <td>0.363409</td>\n",
       "      <td></td>\n",
       "    </tr>\n",
       "    <tr>\n",
       "      <th>2</th>\n",
       "      <td>0.002749</td>\n",
       "      <td>0.002749</td>\n",
       "      <td>1</td>\n",
       "      <td>137.303031</td>\n",
       "      <td>0.357700</td>\n",
       "      <td>0.550772</td>\n",
       "      <td></td>\n",
       "    </tr>\n",
       "  </tbody>\n",
       "</table>\n",
       "</div>"
      ],
      "text/plain": [
       "         SS        MS  NumDF     DenomDF      F-stat     P-val Sig\n",
       "0  1.994837  1.994837      1    2.057824  259.597910  0.003387  **\n",
       "1  0.006419  0.006419      1   81.896164    0.835365  0.363409    \n",
       "2  0.002749  0.002749      1  137.303031    0.357700  0.550772    "
      ]
     },
     "metadata": {},
     "output_type": "display_data"
    }
   ],
   "source": [
    "# Install pymer4\n",
    "# !pip install -q pymer4\n",
    "# load pymer4\n",
    "from pymer4.models import Lmer\n",
    "model = Lmer('LP ~ Year + Quarter + NumDay + (Year + Quarter|Country)', data=df_norm)\n",
    "display(model.fit())\n",
    "# ANOVA results from fitted model\n",
    "display(model.anova())"
   ]
  },
  {
   "cell_type": "markdown",
   "id": "e9cf5a37",
   "metadata": {},
   "source": [
    "### regression (gradient descent)"
   ]
  },
  {
   "cell_type": "code",
   "execution_count": 21,
   "id": "cf127c24",
   "metadata": {},
   "outputs": [
    {
     "name": "stdout",
     "output_type": "stream",
     "text": [
      "Index(['Date', 'Country', 'NumDay', 'LP', 'GDP', 'Year', 'Quarter',\n",
      "       'Country_DE', 'Country_ES', 'Country_NL'],\n",
      "      dtype='object')\n",
      "(144, 10)\n"
     ]
    },
    {
     "data": {
      "text/plain": [
       "Date          False\n",
       "Country       False\n",
       "NumDay        False\n",
       "LP            False\n",
       "GDP           False\n",
       "Year          False\n",
       "Quarter       False\n",
       "Country_DE    False\n",
       "Country_ES    False\n",
       "Country_NL    False\n",
       "dtype: bool"
      ]
     },
     "execution_count": 21,
     "metadata": {},
     "output_type": "execute_result"
    }
   ],
   "source": [
    "print(df.columns)\n",
    "print(df.shape)\n",
    "pd.isna(df).any()"
   ]
  },
  {
   "cell_type": "code",
   "execution_count": 22,
   "id": "dade8933",
   "metadata": {},
   "outputs": [
    {
     "name": "stdout",
     "output_type": "stream",
     "text": [
      "(144, 6)\n",
      "144\n",
      "(144, 1)\n"
     ]
    }
   ],
   "source": [
    "x = df[predictors_test].values\n",
    "print(x.shape)\n",
    "y = df[target_column_test].values.reshape(-1,1)\n",
    "print(len(y))\n",
    "print(y.shape)"
   ]
  },
  {
   "cell_type": "code",
   "execution_count": 23,
   "id": "243f543d",
   "metadata": {},
   "outputs": [
    {
     "name": "stdout",
     "output_type": "stream",
     "text": [
      "Correlation between Numday and y = 0.19\n",
      "Correlation between Year and y = 0.91\n",
      "Correlation between Quarter and y = 0.02\n"
     ]
    }
   ],
   "source": [
    "from scipy.stats import pearsonr\n",
    "print(f'Correlation between Numday and y = {pearsonr(x[:,0],y[:,0])[0]:.2f}')\n",
    "print(f'Correlation between Year and y = {pearsonr(x[:,1],y[:,0])[0]:.2f}')\n",
    "print(f'Correlation between Quarter and y = {pearsonr(x[:,2],y[:,0])[0]:.2f}')\n",
    "# Correlation between year and LP = 0.91"
   ]
  },
  {
   "cell_type": "code",
   "execution_count": 24,
   "id": "f693d386",
   "metadata": {},
   "outputs": [
    {
     "data": {
      "text/plain": [
       "(144, 7)"
      ]
     },
     "execution_count": 24,
     "metadata": {},
     "output_type": "execute_result"
    }
   ],
   "source": [
    "# Add a bias to the input vector\n",
    "X = np.concatenate((np.ones((len(x),1)),x),axis=1)\n",
    "X.shape"
   ]
  },
  {
   "cell_type": "code",
   "execution_count": 25,
   "id": "a1a79ce2",
   "metadata": {},
   "outputs": [
    {
     "data": {
      "text/plain": [
       "array([[1.00000000e+00, 6.43883110e-03, 9.88608222e-01, 9.90589401e-04,\n",
       "        4.95294700e-04, 0.00000000e+00, 0.00000000e+00],\n",
       "       [1.00000000e+00, 3.96235760e-03, 9.88608222e-01, 1.48588410e-03,\n",
       "        4.95294700e-04, 0.00000000e+00, 0.00000000e+00],\n",
       "       [1.00000000e+00, 0.00000000e+00, 9.89103517e-01, 9.90589401e-04,\n",
       "        4.95294700e-04, 0.00000000e+00, 0.00000000e+00],\n",
       "       [1.00000000e+00, 9.41059931e-03, 9.89103517e-01, 1.48588410e-03,\n",
       "        4.95294700e-04, 0.00000000e+00, 0.00000000e+00],\n",
       "       [1.00000000e+00, 3.96235760e-03, 9.89598811e-01, 9.90589401e-04,\n",
       "        4.95294700e-04, 0.00000000e+00, 0.00000000e+00],\n",
       "       [1.00000000e+00, 8.42000991e-03, 9.89598811e-01, 1.48588410e-03,\n",
       "        4.95294700e-04, 0.00000000e+00, 0.00000000e+00],\n",
       "       [1.00000000e+00, 0.00000000e+00, 9.90094106e-01, 9.90589401e-04,\n",
       "        4.95294700e-04, 0.00000000e+00, 0.00000000e+00],\n",
       "       [1.00000000e+00, 1.78306092e-02, 9.90094106e-01, 1.48588410e-03,\n",
       "        4.95294700e-04, 0.00000000e+00, 0.00000000e+00],\n",
       "       [1.00000000e+00, 8.42000991e-03, 9.90589401e-01, 9.90589401e-04,\n",
       "        4.95294700e-04, 0.00000000e+00, 0.00000000e+00],\n",
       "       [1.00000000e+00, 0.00000000e+00, 9.90589401e-01, 1.48588410e-03,\n",
       "        4.95294700e-04, 0.00000000e+00, 0.00000000e+00]])"
      ]
     },
     "execution_count": 25,
     "metadata": {},
     "output_type": "execute_result"
    }
   ],
   "source": [
    "# data normalization\n",
    "Xnorm = X.copy()\n",
    "minx = np.min(X[:,1:])\n",
    "maxx = np.max(X[:,1:])\n",
    "Xnorm[:,1:] = (X[:,1:]-minx)/(maxx-minx)\n",
    "Xnorm[:10,:]"
   ]
  },
  {
   "cell_type": "code",
   "execution_count": 26,
   "id": "040ceac9",
   "metadata": {},
   "outputs": [
    {
     "name": "stdout",
     "output_type": "stream",
     "text": [
      "(144, 1)\n"
     ]
    }
   ],
   "source": [
    "ynorm = y.copy()\n",
    "maxy = np.max(y)\n",
    "miny = np.min(y)\n",
    "ynorm = (y-miny)/(maxy - miny) \n",
    "ynorm[:10,0]\n",
    "print(ynorm.shape)"
   ]
  },
  {
   "cell_type": "code",
   "execution_count": 27,
   "id": "e5877e16",
   "metadata": {},
   "outputs": [
    {
     "data": {
      "text/plain": [
       "[<matplotlib.lines.Line2D at 0x7fad439f1460>]"
      ]
     },
     "execution_count": 27,
     "metadata": {},
     "output_type": "execute_result"
    },
    {
     "data": {
      "image/png": "[encoded data removed]",
      "text/plain": [
       "<Figure size 432x288 with 1 Axes>"
      ]
     },
     "metadata": {
      "needs_background": "light"
     },
     "output_type": "display_data"
    }
   ],
   "source": [
    "# Initial estimate of parameters\n",
    "theta0 = np.zeros((X.shape[1],1))+0.4\n",
    "#theta0 = np.array([[0],[0.5],[2],[0.5]])\n",
    "\n",
    "ypred = Xnorm.dot(theta0)\n",
    "\n",
    "sortidx = np.argsort(ynorm[:,0]) # sort the values for better visualization\n",
    "plt.plot(ynorm[sortidx,0],'o')\n",
    "plt.plot(ypred[sortidx,0],'--')"
   ]
  },
  {
   "cell_type": "code",
   "execution_count": 28,
   "id": "e3218781",
   "metadata": {},
   "outputs": [
    {
     "data": {
      "text/plain": [
       "array([[2.04492907e-01],\n",
       "       [1.52270031e-03],\n",
       "       [2.02554561e-01],\n",
       "       [2.52363656e-04],\n",
       "       [2.24915133e-05],\n",
       "       [4.19925144e-05],\n",
       "       [3.68002253e-05]])"
      ]
     },
     "execution_count": 28,
     "metadata": {},
     "output_type": "execute_result"
    }
   ],
   "source": [
    "# calculate gradient\n",
    "m=144\n",
    "def grad(theta):\n",
    "    dJ = 1/m*np.sum((Xnorm.dot(theta)-ynorm)*Xnorm,axis=0).reshape(-1,1)\n",
    "    return dJ\n",
    "grad(theta0)"
   ]
  },
  {
   "cell_type": "code",
   "execution_count": 29,
   "id": "7c0cece3",
   "metadata": {},
   "outputs": [
    {
     "data": {
      "text/plain": [
       "14.824883386088173"
      ]
     },
     "execution_count": 29,
     "metadata": {},
     "output_type": "execute_result"
    }
   ],
   "source": [
    "def cost(theta):\n",
    "    J = np.sum((Xnorm.dot(theta)-ynorm)**2,axis=0)[0]\n",
    "    return J\n",
    "cost(theta0)"
   ]
  },
  {
   "cell_type": "code",
   "execution_count": 30,
   "id": "bd014195",
   "metadata": {},
   "outputs": [],
   "source": [
    "def GD(theta0,learning_rate = 0.5,epochs=1000,TOL=1e-7):\n",
    "    \n",
    "    theta_history = [theta0]\n",
    "    J_history = [cost(theta0)]\n",
    "    \n",
    "    thetanew = theta0*10000\n",
    "    print(f'epoch \\t Cost(J) \\t')\n",
    "    for epoch in range(epochs):\n",
    "        if epoch%100 == 0:\n",
    "            print(f'{epoch:5d}\\t{J_history[-1]:7.4f}\\t')\n",
    "        dJ = grad(theta0)\n",
    "        J = cost(theta0)\n",
    "        \n",
    "        thetanew = theta0 - learning_rate*dJ\n",
    "        theta_history.append(thetanew)\n",
    "        J_history.append(J)\n",
    "        \n",
    "        if np.sum((thetanew - theta0)**2) < TOL:\n",
    "            print('Convergence achieved.')\n",
    "            break\n",
    "        theta0 = thetanew\n",
    "\n",
    "    return thetanew,theta_history,J_history"
   ]
  },
  {
   "cell_type": "code",
   "execution_count": 31,
   "id": "07f31ba7",
   "metadata": {},
   "outputs": [
    {
     "name": "stdout",
     "output_type": "stream",
     "text": [
      "epoch \t Cost(J) \t\n",
      "    0\t14.8249\t\n",
      "  100\t 8.8202\t\n",
      "  200\t 8.8144\t\n",
      "  300\t 8.8085\t\n",
      "  400\t 8.8027\t\n",
      "  500\t 8.7968\t\n",
      "  600\t 8.7910\t\n",
      "  700\t 8.7852\t\n",
      "  800\t 8.7794\t\n",
      "  900\t 8.7736\t\n",
      "Convergence achieved.\n"
     ]
    }
   ],
   "source": [
    "theta,theta_history,J_history = GD(theta0)"
   ]
  },
  {
   "cell_type": "code",
   "execution_count": 32,
   "id": "298bee4a",
   "metadata": {},
   "outputs": [
    {
     "data": {
      "text/plain": [
       "[<matplotlib.lines.Line2D at 0x7fad463ec9a0>]"
      ]
     },
     "execution_count": 32,
     "metadata": {},
     "output_type": "execute_result"
    },
    {
     "data": {
      "image/png": "[encoded data removed]",
      "text/plain": [
       "<Figure size 432x288 with 1 Axes>"
      ]
     },
     "metadata": {
      "needs_background": "light"
     },
     "output_type": "display_data"
    }
   ],
   "source": [
    "plt.plot(J_history)"
   ]
  },
  {
   "cell_type": "code",
   "execution_count": 33,
   "id": "8e601a00",
   "metadata": {},
   "outputs": [
    {
     "data": {
      "text/plain": [
       "[<matplotlib.lines.Line2D at 0x7fad4d1720a0>]"
      ]
     },
     "execution_count": 33,
     "metadata": {},
     "output_type": "execute_result"
    },
    {
     "data": {
      "image/png": "[encoded data removed]",
      "text/plain": [
       "<Figure size 432x288 with 1 Axes>"
      ]
     },
     "metadata": {
      "needs_background": "light"
     },
     "output_type": "display_data"
    }
   ],
   "source": [
    "yprednorm = Xnorm.dot(theta)\n",
    "\n",
    "ypred = yprednorm*(maxy-miny) + miny\n",
    "plt.plot(y[sortidx,0],'o')\n",
    "plt.plot(ypred[sortidx,0],'--')"
   ]
  }
 ],
 "metadata": {
  "kernelspec": {
   "display_name": "Python 3",
   "language": "python",
   "name": "python3"
  },
  "language_info": {
   "codemirror_mode": {
    "name": "ipython",
    "version": 3
   },
   "file_extension": ".py",
   "mimetype": "text/x-python",
   "name": "python",
   "nbconvert_exporter": "python",
   "pygments_lexer": "ipython3",
   "version": "3.8.8"
  }
 },
 "nbformat": 4,
 "nbformat_minor": 5
}
